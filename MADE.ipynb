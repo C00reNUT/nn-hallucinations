{
  "nbformat": 4,
  "nbformat_minor": 0,
  "metadata": {
    "colab": {
      "name": "MADE.ipynb",
      "provenance": [],
      "collapsed_sections": [],
      "authorship_tag": "ABX9TyO2ZjhLofpNkScDVAfmTOtu",
      "include_colab_link": true
    },
    "kernelspec": {
      "name": "python3",
      "display_name": "Python 3"
    },
    "accelerator": "GPU",
    "widgets": {
      "application/vnd.jupyter.widget-state+json": {
        "4d5a021a2d3c4533b23200b517770ea9": {
          "model_module": "@jupyter-widgets/controls",
          "model_name": "HBoxModel",
          "state": {
            "_view_name": "HBoxView",
            "_dom_classes": [],
            "_model_name": "HBoxModel",
            "_view_module": "@jupyter-widgets/controls",
            "_model_module_version": "1.5.0",
            "_view_count": null,
            "_view_module_version": "1.5.0",
            "box_style": "",
            "layout": "IPY_MODEL_63c932c01c32414d9b76b49320619868",
            "_model_module": "@jupyter-widgets/controls",
            "children": [
              "IPY_MODEL_08b3b48992bd4160b4ea534a4b01263d",
              "IPY_MODEL_bcee4d16015e491d8c1bee451793dccf"
            ]
          }
        },
        "63c932c01c32414d9b76b49320619868": {
          "model_module": "@jupyter-widgets/base",
          "model_name": "LayoutModel",
          "state": {
            "_view_name": "LayoutView",
            "grid_template_rows": null,
            "right": null,
            "justify_content": null,
            "_view_module": "@jupyter-widgets/base",
            "overflow": null,
            "_model_module_version": "1.2.0",
            "_view_count": null,
            "flex_flow": null,
            "width": null,
            "min_width": null,
            "border": null,
            "align_items": null,
            "bottom": null,
            "_model_module": "@jupyter-widgets/base",
            "top": null,
            "grid_column": null,
            "overflow_y": null,
            "overflow_x": null,
            "grid_auto_flow": null,
            "grid_area": null,
            "grid_template_columns": null,
            "flex": null,
            "_model_name": "LayoutModel",
            "justify_items": null,
            "grid_row": null,
            "max_height": null,
            "align_content": null,
            "visibility": null,
            "align_self": null,
            "height": null,
            "min_height": null,
            "padding": null,
            "grid_auto_rows": null,
            "grid_gap": null,
            "max_width": null,
            "order": null,
            "_view_module_version": "1.2.0",
            "grid_template_areas": null,
            "object_position": null,
            "object_fit": null,
            "grid_auto_columns": null,
            "margin": null,
            "display": null,
            "left": null
          }
        },
        "08b3b48992bd4160b4ea534a4b01263d": {
          "model_module": "@jupyter-widgets/controls",
          "model_name": "FloatProgressModel",
          "state": {
            "_view_name": "ProgressView",
            "style": "IPY_MODEL_041588744c5342d8bb56b76c7162b8e6",
            "_dom_classes": [],
            "description": "",
            "_model_name": "FloatProgressModel",
            "bar_style": "info",
            "max": 1,
            "_view_module": "@jupyter-widgets/controls",
            "_model_module_version": "1.5.0",
            "value": 1,
            "_view_count": null,
            "_view_module_version": "1.5.0",
            "orientation": "horizontal",
            "min": 0,
            "description_tooltip": null,
            "_model_module": "@jupyter-widgets/controls",
            "layout": "IPY_MODEL_33acdd26fe4642d4b763ff165cab6b9d"
          }
        },
        "bcee4d16015e491d8c1bee451793dccf": {
          "model_module": "@jupyter-widgets/controls",
          "model_name": "HTMLModel",
          "state": {
            "_view_name": "HTMLView",
            "style": "IPY_MODEL_117dec4ea9914ce5bca9a1ce1d233634",
            "_dom_classes": [],
            "description": "",
            "_model_name": "HTMLModel",
            "placeholder": "​",
            "_view_module": "@jupyter-widgets/controls",
            "_model_module_version": "1.5.0",
            "value": " 9920512/? [00:20&lt;00:00, 2815157.17it/s]",
            "_view_count": null,
            "_view_module_version": "1.5.0",
            "description_tooltip": null,
            "_model_module": "@jupyter-widgets/controls",
            "layout": "IPY_MODEL_af90d76f6df947aea4468385d5588140"
          }
        },
        "041588744c5342d8bb56b76c7162b8e6": {
          "model_module": "@jupyter-widgets/controls",
          "model_name": "ProgressStyleModel",
          "state": {
            "_view_name": "StyleView",
            "_model_name": "ProgressStyleModel",
            "description_width": "initial",
            "_view_module": "@jupyter-widgets/base",
            "_model_module_version": "1.5.0",
            "_view_count": null,
            "_view_module_version": "1.2.0",
            "bar_color": null,
            "_model_module": "@jupyter-widgets/controls"
          }
        },
        "33acdd26fe4642d4b763ff165cab6b9d": {
          "model_module": "@jupyter-widgets/base",
          "model_name": "LayoutModel",
          "state": {
            "_view_name": "LayoutView",
            "grid_template_rows": null,
            "right": null,
            "justify_content": null,
            "_view_module": "@jupyter-widgets/base",
            "overflow": null,
            "_model_module_version": "1.2.0",
            "_view_count": null,
            "flex_flow": null,
            "width": null,
            "min_width": null,
            "border": null,
            "align_items": null,
            "bottom": null,
            "_model_module": "@jupyter-widgets/base",
            "top": null,
            "grid_column": null,
            "overflow_y": null,
            "overflow_x": null,
            "grid_auto_flow": null,
            "grid_area": null,
            "grid_template_columns": null,
            "flex": null,
            "_model_name": "LayoutModel",
            "justify_items": null,
            "grid_row": null,
            "max_height": null,
            "align_content": null,
            "visibility": null,
            "align_self": null,
            "height": null,
            "min_height": null,
            "padding": null,
            "grid_auto_rows": null,
            "grid_gap": null,
            "max_width": null,
            "order": null,
            "_view_module_version": "1.2.0",
            "grid_template_areas": null,
            "object_position": null,
            "object_fit": null,
            "grid_auto_columns": null,
            "margin": null,
            "display": null,
            "left": null
          }
        },
        "117dec4ea9914ce5bca9a1ce1d233634": {
          "model_module": "@jupyter-widgets/controls",
          "model_name": "DescriptionStyleModel",
          "state": {
            "_view_name": "StyleView",
            "_model_name": "DescriptionStyleModel",
            "description_width": "",
            "_view_module": "@jupyter-widgets/base",
            "_model_module_version": "1.5.0",
            "_view_count": null,
            "_view_module_version": "1.2.0",
            "_model_module": "@jupyter-widgets/controls"
          }
        },
        "af90d76f6df947aea4468385d5588140": {
          "model_module": "@jupyter-widgets/base",
          "model_name": "LayoutModel",
          "state": {
            "_view_name": "LayoutView",
            "grid_template_rows": null,
            "right": null,
            "justify_content": null,
            "_view_module": "@jupyter-widgets/base",
            "overflow": null,
            "_model_module_version": "1.2.0",
            "_view_count": null,
            "flex_flow": null,
            "width": null,
            "min_width": null,
            "border": null,
            "align_items": null,
            "bottom": null,
            "_model_module": "@jupyter-widgets/base",
            "top": null,
            "grid_column": null,
            "overflow_y": null,
            "overflow_x": null,
            "grid_auto_flow": null,
            "grid_area": null,
            "grid_template_columns": null,
            "flex": null,
            "_model_name": "LayoutModel",
            "justify_items": null,
            "grid_row": null,
            "max_height": null,
            "align_content": null,
            "visibility": null,
            "align_self": null,
            "height": null,
            "min_height": null,
            "padding": null,
            "grid_auto_rows": null,
            "grid_gap": null,
            "max_width": null,
            "order": null,
            "_view_module_version": "1.2.0",
            "grid_template_areas": null,
            "object_position": null,
            "object_fit": null,
            "grid_auto_columns": null,
            "margin": null,
            "display": null,
            "left": null
          }
        },
        "5e6a6160a3854b11a2eb9659a0f29624": {
          "model_module": "@jupyter-widgets/controls",
          "model_name": "HBoxModel",
          "state": {
            "_view_name": "HBoxView",
            "_dom_classes": [],
            "_model_name": "HBoxModel",
            "_view_module": "@jupyter-widgets/controls",
            "_model_module_version": "1.5.0",
            "_view_count": null,
            "_view_module_version": "1.5.0",
            "box_style": "",
            "layout": "IPY_MODEL_489fc76e8b8c479abd0ff49b553a4be8",
            "_model_module": "@jupyter-widgets/controls",
            "children": [
              "IPY_MODEL_9475ce883a4141f7876a7d453fc00545",
              "IPY_MODEL_2ec6373d2bdb452f9bcd34337c32ee5a"
            ]
          }
        },
        "489fc76e8b8c479abd0ff49b553a4be8": {
          "model_module": "@jupyter-widgets/base",
          "model_name": "LayoutModel",
          "state": {
            "_view_name": "LayoutView",
            "grid_template_rows": null,
            "right": null,
            "justify_content": null,
            "_view_module": "@jupyter-widgets/base",
            "overflow": null,
            "_model_module_version": "1.2.0",
            "_view_count": null,
            "flex_flow": null,
            "width": null,
            "min_width": null,
            "border": null,
            "align_items": null,
            "bottom": null,
            "_model_module": "@jupyter-widgets/base",
            "top": null,
            "grid_column": null,
            "overflow_y": null,
            "overflow_x": null,
            "grid_auto_flow": null,
            "grid_area": null,
            "grid_template_columns": null,
            "flex": null,
            "_model_name": "LayoutModel",
            "justify_items": null,
            "grid_row": null,
            "max_height": null,
            "align_content": null,
            "visibility": null,
            "align_self": null,
            "height": null,
            "min_height": null,
            "padding": null,
            "grid_auto_rows": null,
            "grid_gap": null,
            "max_width": null,
            "order": null,
            "_view_module_version": "1.2.0",
            "grid_template_areas": null,
            "object_position": null,
            "object_fit": null,
            "grid_auto_columns": null,
            "margin": null,
            "display": null,
            "left": null
          }
        },
        "9475ce883a4141f7876a7d453fc00545": {
          "model_module": "@jupyter-widgets/controls",
          "model_name": "FloatProgressModel",
          "state": {
            "_view_name": "ProgressView",
            "style": "IPY_MODEL_673a1ddde89647ddb64e99ed9660d947",
            "_dom_classes": [],
            "description": "",
            "_model_name": "FloatProgressModel",
            "bar_style": "success",
            "max": 1,
            "_view_module": "@jupyter-widgets/controls",
            "_model_module_version": "1.5.0",
            "value": 1,
            "_view_count": null,
            "_view_module_version": "1.5.0",
            "orientation": "horizontal",
            "min": 0,
            "description_tooltip": null,
            "_model_module": "@jupyter-widgets/controls",
            "layout": "IPY_MODEL_8b7f3e890e904433a6dcc4eb6cd69668"
          }
        },
        "2ec6373d2bdb452f9bcd34337c32ee5a": {
          "model_module": "@jupyter-widgets/controls",
          "model_name": "HTMLModel",
          "state": {
            "_view_name": "HTMLView",
            "style": "IPY_MODEL_e8ad38b6e6e640989d7ed8a77c1db4be",
            "_dom_classes": [],
            "description": "",
            "_model_name": "HTMLModel",
            "placeholder": "​",
            "_view_module": "@jupyter-widgets/controls",
            "_model_module_version": "1.5.0",
            "value": " 32768/? [00:04&lt;00:00, 6726.72it/s]",
            "_view_count": null,
            "_view_module_version": "1.5.0",
            "description_tooltip": null,
            "_model_module": "@jupyter-widgets/controls",
            "layout": "IPY_MODEL_ec5e4ff3246e4e9dab82e7eef1ff382d"
          }
        },
        "673a1ddde89647ddb64e99ed9660d947": {
          "model_module": "@jupyter-widgets/controls",
          "model_name": "ProgressStyleModel",
          "state": {
            "_view_name": "StyleView",
            "_model_name": "ProgressStyleModel",
            "description_width": "initial",
            "_view_module": "@jupyter-widgets/base",
            "_model_module_version": "1.5.0",
            "_view_count": null,
            "_view_module_version": "1.2.0",
            "bar_color": null,
            "_model_module": "@jupyter-widgets/controls"
          }
        },
        "8b7f3e890e904433a6dcc4eb6cd69668": {
          "model_module": "@jupyter-widgets/base",
          "model_name": "LayoutModel",
          "state": {
            "_view_name": "LayoutView",
            "grid_template_rows": null,
            "right": null,
            "justify_content": null,
            "_view_module": "@jupyter-widgets/base",
            "overflow": null,
            "_model_module_version": "1.2.0",
            "_view_count": null,
            "flex_flow": null,
            "width": null,
            "min_width": null,
            "border": null,
            "align_items": null,
            "bottom": null,
            "_model_module": "@jupyter-widgets/base",
            "top": null,
            "grid_column": null,
            "overflow_y": null,
            "overflow_x": null,
            "grid_auto_flow": null,
            "grid_area": null,
            "grid_template_columns": null,
            "flex": null,
            "_model_name": "LayoutModel",
            "justify_items": null,
            "grid_row": null,
            "max_height": null,
            "align_content": null,
            "visibility": null,
            "align_self": null,
            "height": null,
            "min_height": null,
            "padding": null,
            "grid_auto_rows": null,
            "grid_gap": null,
            "max_width": null,
            "order": null,
            "_view_module_version": "1.2.0",
            "grid_template_areas": null,
            "object_position": null,
            "object_fit": null,
            "grid_auto_columns": null,
            "margin": null,
            "display": null,
            "left": null
          }
        },
        "e8ad38b6e6e640989d7ed8a77c1db4be": {
          "model_module": "@jupyter-widgets/controls",
          "model_name": "DescriptionStyleModel",
          "state": {
            "_view_name": "StyleView",
            "_model_name": "DescriptionStyleModel",
            "description_width": "",
            "_view_module": "@jupyter-widgets/base",
            "_model_module_version": "1.5.0",
            "_view_count": null,
            "_view_module_version": "1.2.0",
            "_model_module": "@jupyter-widgets/controls"
          }
        },
        "ec5e4ff3246e4e9dab82e7eef1ff382d": {
          "model_module": "@jupyter-widgets/base",
          "model_name": "LayoutModel",
          "state": {
            "_view_name": "LayoutView",
            "grid_template_rows": null,
            "right": null,
            "justify_content": null,
            "_view_module": "@jupyter-widgets/base",
            "overflow": null,
            "_model_module_version": "1.2.0",
            "_view_count": null,
            "flex_flow": null,
            "width": null,
            "min_width": null,
            "border": null,
            "align_items": null,
            "bottom": null,
            "_model_module": "@jupyter-widgets/base",
            "top": null,
            "grid_column": null,
            "overflow_y": null,
            "overflow_x": null,
            "grid_auto_flow": null,
            "grid_area": null,
            "grid_template_columns": null,
            "flex": null,
            "_model_name": "LayoutModel",
            "justify_items": null,
            "grid_row": null,
            "max_height": null,
            "align_content": null,
            "visibility": null,
            "align_self": null,
            "height": null,
            "min_height": null,
            "padding": null,
            "grid_auto_rows": null,
            "grid_gap": null,
            "max_width": null,
            "order": null,
            "_view_module_version": "1.2.0",
            "grid_template_areas": null,
            "object_position": null,
            "object_fit": null,
            "grid_auto_columns": null,
            "margin": null,
            "display": null,
            "left": null
          }
        },
        "9e2f1d58cd90424a835b854ac313ea0d": {
          "model_module": "@jupyter-widgets/controls",
          "model_name": "HBoxModel",
          "state": {
            "_view_name": "HBoxView",
            "_dom_classes": [],
            "_model_name": "HBoxModel",
            "_view_module": "@jupyter-widgets/controls",
            "_model_module_version": "1.5.0",
            "_view_count": null,
            "_view_module_version": "1.5.0",
            "box_style": "",
            "layout": "IPY_MODEL_101250df4cc44be38db8964b5de6ea33",
            "_model_module": "@jupyter-widgets/controls",
            "children": [
              "IPY_MODEL_2fce55fc89f4426ebdca6f20a81af10b",
              "IPY_MODEL_e21cb3d79a874796bc39ddbcfaae9a14"
            ]
          }
        },
        "101250df4cc44be38db8964b5de6ea33": {
          "model_module": "@jupyter-widgets/base",
          "model_name": "LayoutModel",
          "state": {
            "_view_name": "LayoutView",
            "grid_template_rows": null,
            "right": null,
            "justify_content": null,
            "_view_module": "@jupyter-widgets/base",
            "overflow": null,
            "_model_module_version": "1.2.0",
            "_view_count": null,
            "flex_flow": null,
            "width": null,
            "min_width": null,
            "border": null,
            "align_items": null,
            "bottom": null,
            "_model_module": "@jupyter-widgets/base",
            "top": null,
            "grid_column": null,
            "overflow_y": null,
            "overflow_x": null,
            "grid_auto_flow": null,
            "grid_area": null,
            "grid_template_columns": null,
            "flex": null,
            "_model_name": "LayoutModel",
            "justify_items": null,
            "grid_row": null,
            "max_height": null,
            "align_content": null,
            "visibility": null,
            "align_self": null,
            "height": null,
            "min_height": null,
            "padding": null,
            "grid_auto_rows": null,
            "grid_gap": null,
            "max_width": null,
            "order": null,
            "_view_module_version": "1.2.0",
            "grid_template_areas": null,
            "object_position": null,
            "object_fit": null,
            "grid_auto_columns": null,
            "margin": null,
            "display": null,
            "left": null
          }
        },
        "2fce55fc89f4426ebdca6f20a81af10b": {
          "model_module": "@jupyter-widgets/controls",
          "model_name": "FloatProgressModel",
          "state": {
            "_view_name": "ProgressView",
            "style": "IPY_MODEL_736d62ec10414160a0ceac2460ae1c99",
            "_dom_classes": [],
            "description": "",
            "_model_name": "FloatProgressModel",
            "bar_style": "success",
            "max": 1,
            "_view_module": "@jupyter-widgets/controls",
            "_model_module_version": "1.5.0",
            "value": 1,
            "_view_count": null,
            "_view_module_version": "1.5.0",
            "orientation": "horizontal",
            "min": 0,
            "description_tooltip": null,
            "_model_module": "@jupyter-widgets/controls",
            "layout": "IPY_MODEL_7c4ede5232e542ababafb6e911de2643"
          }
        },
        "e21cb3d79a874796bc39ddbcfaae9a14": {
          "model_module": "@jupyter-widgets/controls",
          "model_name": "HTMLModel",
          "state": {
            "_view_name": "HTMLView",
            "style": "IPY_MODEL_36d58d3a39be4f51865c6302f44bd589",
            "_dom_classes": [],
            "description": "",
            "_model_name": "HTMLModel",
            "placeholder": "​",
            "_view_module": "@jupyter-widgets/controls",
            "_model_module_version": "1.5.0",
            "value": " 1654784/? [00:04&lt;00:00, 360981.18it/s]",
            "_view_count": null,
            "_view_module_version": "1.5.0",
            "description_tooltip": null,
            "_model_module": "@jupyter-widgets/controls",
            "layout": "IPY_MODEL_47657d135cbe4659868a3b1a0c15ac21"
          }
        },
        "736d62ec10414160a0ceac2460ae1c99": {
          "model_module": "@jupyter-widgets/controls",
          "model_name": "ProgressStyleModel",
          "state": {
            "_view_name": "StyleView",
            "_model_name": "ProgressStyleModel",
            "description_width": "initial",
            "_view_module": "@jupyter-widgets/base",
            "_model_module_version": "1.5.0",
            "_view_count": null,
            "_view_module_version": "1.2.0",
            "bar_color": null,
            "_model_module": "@jupyter-widgets/controls"
          }
        },
        "7c4ede5232e542ababafb6e911de2643": {
          "model_module": "@jupyter-widgets/base",
          "model_name": "LayoutModel",
          "state": {
            "_view_name": "LayoutView",
            "grid_template_rows": null,
            "right": null,
            "justify_content": null,
            "_view_module": "@jupyter-widgets/base",
            "overflow": null,
            "_model_module_version": "1.2.0",
            "_view_count": null,
            "flex_flow": null,
            "width": null,
            "min_width": null,
            "border": null,
            "align_items": null,
            "bottom": null,
            "_model_module": "@jupyter-widgets/base",
            "top": null,
            "grid_column": null,
            "overflow_y": null,
            "overflow_x": null,
            "grid_auto_flow": null,
            "grid_area": null,
            "grid_template_columns": null,
            "flex": null,
            "_model_name": "LayoutModel",
            "justify_items": null,
            "grid_row": null,
            "max_height": null,
            "align_content": null,
            "visibility": null,
            "align_self": null,
            "height": null,
            "min_height": null,
            "padding": null,
            "grid_auto_rows": null,
            "grid_gap": null,
            "max_width": null,
            "order": null,
            "_view_module_version": "1.2.0",
            "grid_template_areas": null,
            "object_position": null,
            "object_fit": null,
            "grid_auto_columns": null,
            "margin": null,
            "display": null,
            "left": null
          }
        },
        "36d58d3a39be4f51865c6302f44bd589": {
          "model_module": "@jupyter-widgets/controls",
          "model_name": "DescriptionStyleModel",
          "state": {
            "_view_name": "StyleView",
            "_model_name": "DescriptionStyleModel",
            "description_width": "",
            "_view_module": "@jupyter-widgets/base",
            "_model_module_version": "1.5.0",
            "_view_count": null,
            "_view_module_version": "1.2.0",
            "_model_module": "@jupyter-widgets/controls"
          }
        },
        "47657d135cbe4659868a3b1a0c15ac21": {
          "model_module": "@jupyter-widgets/base",
          "model_name": "LayoutModel",
          "state": {
            "_view_name": "LayoutView",
            "grid_template_rows": null,
            "right": null,
            "justify_content": null,
            "_view_module": "@jupyter-widgets/base",
            "overflow": null,
            "_model_module_version": "1.2.0",
            "_view_count": null,
            "flex_flow": null,
            "width": null,
            "min_width": null,
            "border": null,
            "align_items": null,
            "bottom": null,
            "_model_module": "@jupyter-widgets/base",
            "top": null,
            "grid_column": null,
            "overflow_y": null,
            "overflow_x": null,
            "grid_auto_flow": null,
            "grid_area": null,
            "grid_template_columns": null,
            "flex": null,
            "_model_name": "LayoutModel",
            "justify_items": null,
            "grid_row": null,
            "max_height": null,
            "align_content": null,
            "visibility": null,
            "align_self": null,
            "height": null,
            "min_height": null,
            "padding": null,
            "grid_auto_rows": null,
            "grid_gap": null,
            "max_width": null,
            "order": null,
            "_view_module_version": "1.2.0",
            "grid_template_areas": null,
            "object_position": null,
            "object_fit": null,
            "grid_auto_columns": null,
            "margin": null,
            "display": null,
            "left": null
          }
        },
        "372ab7680feb4ad6a499345c4ca3b7ee": {
          "model_module": "@jupyter-widgets/controls",
          "model_name": "HBoxModel",
          "state": {
            "_view_name": "HBoxView",
            "_dom_classes": [],
            "_model_name": "HBoxModel",
            "_view_module": "@jupyter-widgets/controls",
            "_model_module_version": "1.5.0",
            "_view_count": null,
            "_view_module_version": "1.5.0",
            "box_style": "",
            "layout": "IPY_MODEL_1145ec7eb98b47baba25e0a98be2a0d3",
            "_model_module": "@jupyter-widgets/controls",
            "children": [
              "IPY_MODEL_5540937bfd2a47aa8fdb8cf166aa1fb8",
              "IPY_MODEL_98d0c48ff0724be296f0679fc1cedbfc"
            ]
          }
        },
        "1145ec7eb98b47baba25e0a98be2a0d3": {
          "model_module": "@jupyter-widgets/base",
          "model_name": "LayoutModel",
          "state": {
            "_view_name": "LayoutView",
            "grid_template_rows": null,
            "right": null,
            "justify_content": null,
            "_view_module": "@jupyter-widgets/base",
            "overflow": null,
            "_model_module_version": "1.2.0",
            "_view_count": null,
            "flex_flow": null,
            "width": null,
            "min_width": null,
            "border": null,
            "align_items": null,
            "bottom": null,
            "_model_module": "@jupyter-widgets/base",
            "top": null,
            "grid_column": null,
            "overflow_y": null,
            "overflow_x": null,
            "grid_auto_flow": null,
            "grid_area": null,
            "grid_template_columns": null,
            "flex": null,
            "_model_name": "LayoutModel",
            "justify_items": null,
            "grid_row": null,
            "max_height": null,
            "align_content": null,
            "visibility": null,
            "align_self": null,
            "height": null,
            "min_height": null,
            "padding": null,
            "grid_auto_rows": null,
            "grid_gap": null,
            "max_width": null,
            "order": null,
            "_view_module_version": "1.2.0",
            "grid_template_areas": null,
            "object_position": null,
            "object_fit": null,
            "grid_auto_columns": null,
            "margin": null,
            "display": null,
            "left": null
          }
        },
        "5540937bfd2a47aa8fdb8cf166aa1fb8": {
          "model_module": "@jupyter-widgets/controls",
          "model_name": "FloatProgressModel",
          "state": {
            "_view_name": "ProgressView",
            "style": "IPY_MODEL_70cc5ffe41ec44df8ebb4f483b89e276",
            "_dom_classes": [],
            "description": "",
            "_model_name": "FloatProgressModel",
            "bar_style": "success",
            "max": 1,
            "_view_module": "@jupyter-widgets/controls",
            "_model_module_version": "1.5.0",
            "value": 1,
            "_view_count": null,
            "_view_module_version": "1.5.0",
            "orientation": "horizontal",
            "min": 0,
            "description_tooltip": null,
            "_model_module": "@jupyter-widgets/controls",
            "layout": "IPY_MODEL_95cbd55e7d2b4b3d99780963d7e66137"
          }
        },
        "98d0c48ff0724be296f0679fc1cedbfc": {
          "model_module": "@jupyter-widgets/controls",
          "model_name": "HTMLModel",
          "state": {
            "_view_name": "HTMLView",
            "style": "IPY_MODEL_31a7fbab322449c0a2f63aa4179a9e9b",
            "_dom_classes": [],
            "description": "",
            "_model_name": "HTMLModel",
            "placeholder": "​",
            "_view_module": "@jupyter-widgets/controls",
            "_model_module_version": "1.5.0",
            "value": " 8192/? [00:03&lt;00:00, 2500.27it/s]",
            "_view_count": null,
            "_view_module_version": "1.5.0",
            "description_tooltip": null,
            "_model_module": "@jupyter-widgets/controls",
            "layout": "IPY_MODEL_ff9125f22cae4835a150ea4e4b84bb1f"
          }
        },
        "70cc5ffe41ec44df8ebb4f483b89e276": {
          "model_module": "@jupyter-widgets/controls",
          "model_name": "ProgressStyleModel",
          "state": {
            "_view_name": "StyleView",
            "_model_name": "ProgressStyleModel",
            "description_width": "initial",
            "_view_module": "@jupyter-widgets/base",
            "_model_module_version": "1.5.0",
            "_view_count": null,
            "_view_module_version": "1.2.0",
            "bar_color": null,
            "_model_module": "@jupyter-widgets/controls"
          }
        },
        "95cbd55e7d2b4b3d99780963d7e66137": {
          "model_module": "@jupyter-widgets/base",
          "model_name": "LayoutModel",
          "state": {
            "_view_name": "LayoutView",
            "grid_template_rows": null,
            "right": null,
            "justify_content": null,
            "_view_module": "@jupyter-widgets/base",
            "overflow": null,
            "_model_module_version": "1.2.0",
            "_view_count": null,
            "flex_flow": null,
            "width": null,
            "min_width": null,
            "border": null,
            "align_items": null,
            "bottom": null,
            "_model_module": "@jupyter-widgets/base",
            "top": null,
            "grid_column": null,
            "overflow_y": null,
            "overflow_x": null,
            "grid_auto_flow": null,
            "grid_area": null,
            "grid_template_columns": null,
            "flex": null,
            "_model_name": "LayoutModel",
            "justify_items": null,
            "grid_row": null,
            "max_height": null,
            "align_content": null,
            "visibility": null,
            "align_self": null,
            "height": null,
            "min_height": null,
            "padding": null,
            "grid_auto_rows": null,
            "grid_gap": null,
            "max_width": null,
            "order": null,
            "_view_module_version": "1.2.0",
            "grid_template_areas": null,
            "object_position": null,
            "object_fit": null,
            "grid_auto_columns": null,
            "margin": null,
            "display": null,
            "left": null
          }
        },
        "31a7fbab322449c0a2f63aa4179a9e9b": {
          "model_module": "@jupyter-widgets/controls",
          "model_name": "DescriptionStyleModel",
          "state": {
            "_view_name": "StyleView",
            "_model_name": "DescriptionStyleModel",
            "description_width": "",
            "_view_module": "@jupyter-widgets/base",
            "_model_module_version": "1.5.0",
            "_view_count": null,
            "_view_module_version": "1.2.0",
            "_model_module": "@jupyter-widgets/controls"
          }
        },
        "ff9125f22cae4835a150ea4e4b84bb1f": {
          "model_module": "@jupyter-widgets/base",
          "model_name": "LayoutModel",
          "state": {
            "_view_name": "LayoutView",
            "grid_template_rows": null,
            "right": null,
            "justify_content": null,
            "_view_module": "@jupyter-widgets/base",
            "overflow": null,
            "_model_module_version": "1.2.0",
            "_view_count": null,
            "flex_flow": null,
            "width": null,
            "min_width": null,
            "border": null,
            "align_items": null,
            "bottom": null,
            "_model_module": "@jupyter-widgets/base",
            "top": null,
            "grid_column": null,
            "overflow_y": null,
            "overflow_x": null,
            "grid_auto_flow": null,
            "grid_area": null,
            "grid_template_columns": null,
            "flex": null,
            "_model_name": "LayoutModel",
            "justify_items": null,
            "grid_row": null,
            "max_height": null,
            "align_content": null,
            "visibility": null,
            "align_self": null,
            "height": null,
            "min_height": null,
            "padding": null,
            "grid_auto_rows": null,
            "grid_gap": null,
            "max_width": null,
            "order": null,
            "_view_module_version": "1.2.0",
            "grid_template_areas": null,
            "object_position": null,
            "object_fit": null,
            "grid_auto_columns": null,
            "margin": null,
            "display": null,
            "left": null
          }
        }
      }
    }
  },
  "cells": [
    {
      "cell_type": "markdown",
      "metadata": {
        "id": "view-in-github",
        "colab_type": "text"
      },
      "source": [
        "<a href=\"https://colab.research.google.com/github/EugenHotaj/nn-hallucinations/blob/master/MADE.ipynb\" target=\"_parent\"><img src=\"https://colab.research.google.com/assets/colab-badge.svg\" alt=\"Open In Colab\"/></a>"
      ]
    },
    {
      "cell_type": "code",
      "metadata": {
        "id": "cTESiyxn8VX3",
        "colab_type": "code",
        "outputId": "97c2b9bf-744c-4674-80d2-b14d553ebc28",
        "colab": {
          "base_uri": "https://localhost:8080/",
          "height": 136
        }
      },
      "source": [
        "!git clone https://www.github.com/EugenHotaj/nn-hallucinations nn_hallucinations"
      ],
      "execution_count": 1,
      "outputs": [
        {
          "output_type": "stream",
          "text": [
            "Cloning into 'nn_hallucinations'...\n",
            "warning: redirecting to https://github.com/EugenHotaj/nn-hallucinations.git/\n",
            "remote: Enumerating objects: 84, done.\u001b[K\n",
            "remote: Counting objects: 100% (84/84), done.\u001b[K\n",
            "remote: Compressing objects: 100% (74/74), done.\u001b[K\n",
            "remote: Total 84 (delta 42), reused 25 (delta 10), pack-reused 0\u001b[K\n",
            "Unpacking objects: 100% (84/84), done.\n"
          ],
          "name": "stdout"
        }
      ]
    },
    {
      "cell_type": "code",
      "metadata": {
        "id": "r65ruYyo1Hx_",
        "colab_type": "code",
        "colab": {}
      },
      "source": [
        "import time\n",
        "\n",
        "import matplotlib.pyplot as plt\n",
        "from nn_hallucinations import colab_utils\n",
        "import numpy as np\n",
        "import torch\n",
        "from torch import distributions \n",
        "from torch import nn\n",
        "from torch import optim\n",
        "from torch.nn import functional as F\n",
        "from torch.utils import data\n",
        "import torchvision\n",
        "from torchvision import transforms\n",
        "from torchvision import datasets"
      ],
      "execution_count": 0,
      "outputs": []
    },
    {
      "cell_type": "code",
      "metadata": {
        "id": "aVZCCtQT8Men",
        "colab_type": "code",
        "outputId": "ac7fa7e8-c3ae-4cfc-8d7b-b4d4850e06c6",
        "colab": {
          "base_uri": "https://localhost:8080/",
          "height": 352,
          "referenced_widgets": [
            "4d5a021a2d3c4533b23200b517770ea9",
            "63c932c01c32414d9b76b49320619868",
            "08b3b48992bd4160b4ea534a4b01263d",
            "bcee4d16015e491d8c1bee451793dccf",
            "041588744c5342d8bb56b76c7162b8e6",
            "33acdd26fe4642d4b763ff165cab6b9d",
            "117dec4ea9914ce5bca9a1ce1d233634",
            "af90d76f6df947aea4468385d5588140",
            "5e6a6160a3854b11a2eb9659a0f29624",
            "489fc76e8b8c479abd0ff49b553a4be8",
            "9475ce883a4141f7876a7d453fc00545",
            "2ec6373d2bdb452f9bcd34337c32ee5a",
            "673a1ddde89647ddb64e99ed9660d947",
            "8b7f3e890e904433a6dcc4eb6cd69668",
            "e8ad38b6e6e640989d7ed8a77c1db4be",
            "ec5e4ff3246e4e9dab82e7eef1ff382d",
            "9e2f1d58cd90424a835b854ac313ea0d",
            "101250df4cc44be38db8964b5de6ea33",
            "2fce55fc89f4426ebdca6f20a81af10b",
            "e21cb3d79a874796bc39ddbcfaae9a14",
            "736d62ec10414160a0ceac2460ae1c99",
            "7c4ede5232e542ababafb6e911de2643",
            "36d58d3a39be4f51865c6302f44bd589",
            "47657d135cbe4659868a3b1a0c15ac21",
            "372ab7680feb4ad6a499345c4ca3b7ee",
            "1145ec7eb98b47baba25e0a98be2a0d3",
            "5540937bfd2a47aa8fdb8cf166aa1fb8",
            "98d0c48ff0724be296f0679fc1cedbfc",
            "70cc5ffe41ec44df8ebb4f483b89e276",
            "95cbd55e7d2b4b3d99780963d7e66137",
            "31a7fbab322449c0a2f63aa4179a9e9b",
            "ff9125f22cae4835a150ea4e4b84bb1f"
          ]
        }
      },
      "source": [
        "BATCH_SIZE = 512\n",
        "TRANSFORM = transforms.Compose([\n",
        "    transforms.ToTensor(),\n",
        "    lambda x: x.view(-1),  # Flatten.\n",
        "    lambda x: distributions.Bernoulli(probs=x).sample()])\n",
        "\n",
        "train_loader = data.DataLoader(\n",
        "    datasets.MNIST('../data', train=True, download=True, transform=TRANSFORM),\n",
        "    batch_size=BATCH_SIZE, \n",
        "    shuffle=True)\n",
        "test_loader = data.DataLoader(\n",
        "    datasets.MNIST('../data', train=False, download=True,transform=TRANSFORM),\n",
        "    batch_size=BATCH_SIZE*2)"
      ],
      "execution_count": 3,
      "outputs": [
        {
          "output_type": "stream",
          "text": [
            "Downloading http://yann.lecun.com/exdb/mnist/train-images-idx3-ubyte.gz to ../data/MNIST/raw/train-images-idx3-ubyte.gz\n"
          ],
          "name": "stdout"
        },
        {
          "output_type": "display_data",
          "data": {
            "application/vnd.jupyter.widget-view+json": {
              "model_id": "4d5a021a2d3c4533b23200b517770ea9",
              "version_minor": 0,
              "version_major": 2
            },
            "text/plain": [
              "HBox(children=(FloatProgress(value=1.0, bar_style='info', max=1.0), HTML(value='')))"
            ]
          },
          "metadata": {
            "tags": []
          }
        },
        {
          "output_type": "stream",
          "text": [
            "Extracting ../data/MNIST/raw/train-images-idx3-ubyte.gz to ../data/MNIST/raw\n",
            "Downloading http://yann.lecun.com/exdb/mnist/train-labels-idx1-ubyte.gz to ../data/MNIST/raw/train-labels-idx1-ubyte.gz\n"
          ],
          "name": "stdout"
        },
        {
          "output_type": "display_data",
          "data": {
            "application/vnd.jupyter.widget-view+json": {
              "model_id": "5e6a6160a3854b11a2eb9659a0f29624",
              "version_minor": 0,
              "version_major": 2
            },
            "text/plain": [
              "HBox(children=(FloatProgress(value=1.0, bar_style='info', max=1.0), HTML(value='')))"
            ]
          },
          "metadata": {
            "tags": []
          }
        },
        {
          "output_type": "stream",
          "text": [
            "Extracting ../data/MNIST/raw/train-labels-idx1-ubyte.gz to ../data/MNIST/raw\n",
            "Downloading http://yann.lecun.com/exdb/mnist/t10k-images-idx3-ubyte.gz to ../data/MNIST/raw/t10k-images-idx3-ubyte.gz\n"
          ],
          "name": "stdout"
        },
        {
          "output_type": "display_data",
          "data": {
            "application/vnd.jupyter.widget-view+json": {
              "model_id": "9e2f1d58cd90424a835b854ac313ea0d",
              "version_minor": 0,
              "version_major": 2
            },
            "text/plain": [
              "HBox(children=(FloatProgress(value=1.0, bar_style='info', max=1.0), HTML(value='')))"
            ]
          },
          "metadata": {
            "tags": []
          }
        },
        {
          "output_type": "stream",
          "text": [
            "Extracting ../data/MNIST/raw/t10k-images-idx3-ubyte.gz to ../data/MNIST/raw\n",
            "Downloading http://yann.lecun.com/exdb/mnist/t10k-labels-idx1-ubyte.gz to ../data/MNIST/raw/t10k-labels-idx1-ubyte.gz\n"
          ],
          "name": "stdout"
        },
        {
          "output_type": "display_data",
          "data": {
            "application/vnd.jupyter.widget-view+json": {
              "model_id": "372ab7680feb4ad6a499345c4ca3b7ee",
              "version_minor": 0,
              "version_major": 2
            },
            "text/plain": [
              "HBox(children=(FloatProgress(value=1.0, bar_style='info', max=1.0), HTML(value='')))"
            ]
          },
          "metadata": {
            "tags": []
          }
        },
        {
          "output_type": "stream",
          "text": [
            "Extracting ../data/MNIST/raw/t10k-labels-idx1-ubyte.gz to ../data/MNIST/raw\n",
            "Processing...\n",
            "Done!\n"
          ],
          "name": "stdout"
        },
        {
          "output_type": "stream",
          "text": [
            "/pytorch/torch/csrc/utils/tensor_numpy.cpp:141: UserWarning: The given NumPy array is not writeable, and PyTorch does not support non-writeable tensors. This means you can write to the underlying (supposedly non-writeable) NumPy array using the tensor. You may want to copy the array to protect its data or make it writeable before converting it to a tensor. This type of warning will be suppressed for the rest of this program.\n"
          ],
          "name": "stderr"
        }
      ]
    },
    {
      "cell_type": "code",
      "metadata": {
        "id": "jOMNxV5i-KsN",
        "colab_type": "code",
        "colab": {}
      },
      "source": [
        "class MaskedLinear(nn.Linear):\n",
        "  \"\"\"A Linear layer with masks that turn off some of the layer's weights.\"\"\"\n",
        "\n",
        "  def __init__(self, in_features, out_features, bias=True):\n",
        "    super().__init__(in_features, out_features, bias)\n",
        "    self.register_buffer('mask', torch.ones((out_features, in_features)))\n",
        "\n",
        "  def set_mask(self, mask):\n",
        "    self.mask.data.copy_(mask)\n",
        "\n",
        "  def forward(self, x):\n",
        "    return F.linear(x, self.weight * self.mask, self.bias)\n",
        "\n",
        "\n",
        "class MADE(nn.Module):\n",
        "  \"\"\"Implementation of the Masked Autoencoder Distribution Estimator (MADE).\n",
        "\n",
        "  MADE is a regular, fully-connected autoencoder with a connectivity pattern \n",
        "  that respects autoregressive constraints, i.e., for any ordering of the \n",
        "  inputs, each input is constructed only from the previous inputs. This property \n",
        "  allows MADE to model P(X) by decomposing it as the product p(x_i | x_{j<i}).\n",
        "  Interestingly, this means that MADE can turn any regular autoencoder into a \n",
        "  powerful generative model.\n",
        "\n",
        "  For full details, see the paper by Germain et al. (2015).\n",
        "  \"\"\"\n",
        "\n",
        "  def __init__(self, input_dim, hidden_dims=None, n_masks=1):\n",
        "    \"\"\"Initializes a new MADE instance.\n",
        "    \n",
        "    Args:\n",
        "      input_dim: The dimensionality of the input.\n",
        "      hidden_dims: A list containing the number of units for each hidden layer.\n",
        "      n_masks: The total number of distinct masks to use during training/eval.\n",
        "    \"\"\"\n",
        "    super().__init__()\n",
        "    self._input_dim = input_dim\n",
        "    self._dims = [self._input_dim] + (hidden_dims or []) + [self._input_dim]\n",
        "    self._n_masks = n_masks\n",
        "    self._mask_seed = 0\n",
        "\n",
        "    layers = []\n",
        "    for i in range(len(self._dims) - 1):\n",
        "      in_dim, out_dim = self._dims[i], self._dims[i + 1]\n",
        "      layers.append(MaskedLinear(in_dim, out_dim))\n",
        "      layers.append(nn.ReLU())\n",
        "    layers[-1] = nn.Sigmoid()  # Output is binary. \n",
        "    self._net = nn.Sequential(*layers)\n",
        "\n",
        "  def _sample_masks(self):\n",
        "    \"\"\"Samples a new set of autoregressive masks.\n",
        "\n",
        "    Only 'self._n_masks' distinct sets of masks are sampled after which the mask\n",
        "    sets are rotated through in the order in which they were sampled. In \n",
        "    principle, it's possible to generate the masks once and cache them. However,\n",
        "    this can lead to memory issues for large 'self._n_masks' or models many\n",
        "    parameters. Finally, sampling the masks is not that computationally \n",
        "    expensive. \n",
        "\n",
        "    Returns:\n",
        "      A tuple of (masks, ordering). Ordering refers to the ordering of the \n",
        "        outputs since MADE is order agnostic.\n",
        "    \"\"\"\n",
        "    rng = np.random.RandomState(seed=self._mask_seed % self._n_masks)\n",
        "    self._mask_seed += 1\n",
        "\n",
        "    # Sample connectivity patterns.\n",
        "    conn = [rng.permutation(self._input_dim)]\n",
        "    for i, dim in enumerate(self._dims[1:-1]):\n",
        "      # NOTE(eugenhotaj): The dimensions in the paper are 1-indexed whereas \n",
        "      # arrays in Python are 0-indexed. Implementation adjusted accordingly. \n",
        "      low = 0 if i == 0 else np.min(conn[i - 1])\n",
        "      high = self._input_dim - 1\n",
        "      conn.append(rng.randint(low, high, size=dim))\n",
        "    conn.append(np.copy(conn[0]))\n",
        "\n",
        "    # Create masks.\n",
        "    masks = [conn[i - 1][None, :] <= conn[i][:, None] \n",
        "             for i in range(1, len(conn) - 1 )]\n",
        "    masks.append(conn[-2][None, :] < conn[-1][:, None])\n",
        "\n",
        "    return [torch.from_numpy(mask.astype(np.uint8)) for mask in masks], conn[-1]\n",
        "\n",
        "  def _forward(self, x, masks): \n",
        "    layers = [\n",
        "      layer for layer in self._net.modules() if isinstance(layer, MaskedLinear)]\n",
        "    for layer, mask in zip(layers, masks):\n",
        "      layer.set_mask(mask)\n",
        "    return self._net(x)\n",
        "\n",
        "  def forward(self, x):\n",
        "    \"\"\"Computes a forward pass.\"\"\"\n",
        "    masks, _ = self._sample_masks()\n",
        "    return self._forward(x, masks)\n",
        "\n",
        "  def sample(self, conditioned_on=None):\n",
        "    \"\"\"Samples a new image.\n",
        "    \n",
        "    Args:\n",
        "      conditioned_on: An (optional) image to condition samples on. Only \n",
        "        dimensions with values < 0 will be sampled. For example, if \n",
        "        conditioned_on[i] = -1, then output[i] will be sampled conditioned on\n",
        "        dimensions j < i. If 'None', an unconditional sample will be generated.\n",
        "    \"\"\"\n",
        "    with torch.no_grad():\n",
        "      masks, ordering = self._sample_masks()\n",
        "\n",
        "      if conditioned_on is None:\n",
        "        device = next(self.parameters()).device\n",
        "        conditioned_on = (torch.ones((1, self._input_dim)) * - 1).to(device)\n",
        "\n",
        "      ordering = np.argsort(ordering)\n",
        "      for dim in ordering:\n",
        "        out = self._net(conditioned_on)[:, dim]\n",
        "        out = distributions.Bernoulli(probs=out).sample()\n",
        "        conditioned_on[:, dim] = torch.where(\n",
        "            conditioned_on[:, dim] < 0, out, conditioned_on[:, dim])\n",
        "      return conditioned_on"
      ],
      "execution_count": 0,
      "outputs": []
    },
    {
      "cell_type": "code",
      "metadata": {
        "id": "umq315H3vvs6",
        "colab_type": "code",
        "outputId": "0b465ef0-2c7b-4e7e-f81b-99f73389105f",
        "colab": {
          "base_uri": "https://localhost:8080/",
          "height": 867
        }
      },
      "source": [
        "INPUT_SIZE = 784\n",
        "HIDDEN_SIZES = [8000]\n",
        "N_MASKS = 1\n",
        "N_EPOCHS = 50\n",
        "\n",
        "model = MADE(INPUT_SIZE, HIDDEN_SIZES, N_MASKS).to(colab_utils.get_device())\n",
        "optimizer = optim.Adam(model.parameters())\n",
        "bce_loss_fn = nn.BCELoss(reduction='none')\n",
        "loss_fn = lambda x, y, preds: bce_loss_fn(preds, x).sum(dim=1).mean()\n",
        "\n",
        "train_losses, eval_losses = colab_utils.train_andor_evaluate(\n",
        "    model, \n",
        "    loss_fn, \n",
        "    optimizer=optimizer, \n",
        "    n_epochs=N_EPOCHS, \n",
        "    train_loader=train_loader,\n",
        "    eval_loader=test_loader,\n",
        "    device=colab_utils.get_device())"
      ],
      "execution_count": 184,
      "outputs": [
        {
          "output_type": "stream",
          "text": [
            "[1 | 4624]: train_loss=171.52383907063802 eval_loss=116.57118266601563\n",
            "[2 | 4669]: train_loss=108.98778814290364 eval_loss=102.45211618652344\n",
            "[3 | 4709]: train_loss=100.75278255615234 eval_loss=97.57024727783202\n",
            "[4 | 4748]: train_loss=97.19425479329428 eval_loss=95.19021794433594\n",
            "[5 | 4607]: train_loss=94.9093741373698 eval_loss=93.51782326660157\n",
            "[6 | 4676]: train_loss=93.41119339192709 eval_loss=92.17792426757812\n",
            "[7 | 4605]: train_loss=92.26474739583334 eval_loss=91.31807016601563\n",
            "[8 | 4667]: train_loss=91.1750943359375 eval_loss=90.51580524902344\n",
            "[9 | 4613]: train_loss=90.44786564941407 eval_loss=89.77355815429688\n",
            "[10 | 4606]: train_loss=89.81969915364583 eval_loss=89.14127165527344\n",
            "[11 | 4703]: train_loss=89.19936510416667 eval_loss=88.83072467041016\n",
            "[12 | 4573]: train_loss=88.75683428141276 eval_loss=88.41530388183594\n",
            "[13 | 4643]: train_loss=88.29586632486979 eval_loss=88.11103666992187\n",
            "[14 | 4727]: train_loss=87.92729627685547 eval_loss=87.8420528076172\n",
            "[15 | 4690]: train_loss=87.63875295410156 eval_loss=87.51186005859375\n",
            "[16 | 4755]: train_loss=87.2276392578125 eval_loss=87.30074805908203\n",
            "[17 | 4707]: train_loss=87.02506488037109 eval_loss=87.07112434082032\n",
            "[18 | 4680]: train_loss=86.69690590820312 eval_loss=86.82646710205078\n",
            "[19 | 4640]: train_loss=86.51195965983072 eval_loss=86.74632573242188\n",
            "[20 | 4635]: train_loss=86.32007986653646 eval_loss=86.7200337158203\n",
            "[21 | 4607]: train_loss=86.14814827880859 eval_loss=86.52267822265625\n",
            "[22 | 4631]: train_loss=85.9405401204427 eval_loss=86.39738110351563\n",
            "[23 | 4701]: train_loss=85.76191700846354 eval_loss=86.38130477294922\n",
            "[24 | 4713]: train_loss=85.59173250732422 eval_loss=86.12130686035157\n",
            "[25 | 4706]: train_loss=85.42206159667968 eval_loss=85.95961571044921\n",
            "[26 | 4797]: train_loss=85.31354801839193 eval_loss=85.83146481933593\n",
            "[27 | 4756]: train_loss=85.1524321492513 eval_loss=85.8634373413086\n",
            "[28 | 4737]: train_loss=85.05580094807942 eval_loss=85.81160988769531\n",
            "[29 | 4821]: train_loss=84.94012809244792 eval_loss=85.74381212158202\n",
            "[30 | 4677]: train_loss=84.85246178385417 eval_loss=85.55132708740234\n",
            "[31 | 4774]: train_loss=84.71128015136719 eval_loss=85.49956528320313\n",
            "[32 | 4810]: train_loss=84.62372626139323 eval_loss=85.54425687255859\n",
            "[33 | 4772]: train_loss=84.51369494628906 eval_loss=85.41202038574218\n",
            "[34 | 4738]: train_loss=84.39675343831381 eval_loss=85.3344538696289\n",
            "[35 | 4743]: train_loss=84.31944935302734 eval_loss=85.32586787109375\n",
            "[36 | 4803]: train_loss=84.27735635579427 eval_loss=85.18147397460937\n",
            "[37 | 4666]: train_loss=84.13409495849609 eval_loss=85.11798125\n",
            "[38 | 4749]: train_loss=84.105783203125 eval_loss=85.03674134521485\n",
            "[39 | 4687]: train_loss=83.95610478515626 eval_loss=85.17791186523438\n",
            "[40 | 4667]: train_loss=83.91121442871093 eval_loss=85.06429123535156\n",
            "[41 | 4648]: train_loss=83.8801169921875 eval_loss=85.1635187866211\n",
            "[42 | 4696]: train_loss=83.78150301106771 eval_loss=84.97710012207031\n",
            "[43 | 4746]: train_loss=83.69807325846354 eval_loss=85.08585372314454\n",
            "[44 | 4710]: train_loss=83.6813358968099 eval_loss=85.03236071777344\n",
            "[45 | 4703]: train_loss=83.6253393391927 eval_loss=84.9544546508789\n",
            "[46 | 4735]: train_loss=83.55084502360026 eval_loss=84.9080515258789\n",
            "[47 | 4715]: train_loss=83.47638701578776 eval_loss=84.80153557128907\n",
            "[48 | 4757]: train_loss=83.44335142822266 eval_loss=84.95840281982422\n",
            "[49 | 4794]: train_loss=83.37455528157552 eval_loss=84.72540059814453\n",
            "[50 | 4764]: train_loss=83.30147591959636 eval_loss=84.95587336425781\n"
          ],
          "name": "stdout"
        }
      ]
    },
    {
      "cell_type": "code",
      "metadata": {
        "id": "dKLxqIdv2E3Y",
        "colab_type": "code",
        "outputId": "60ae527c-db06-442d-96b1-b6b2a44a3020",
        "colab": {
          "base_uri": "https://localhost:8080/",
          "height": 497
        }
      },
      "source": [
        "epochs = len(train_losses)\n",
        "plt.figure(figsize=(8, 8))\n",
        "plt.plot(range(epochs), train_losses)\n",
        "plt.plot(range(epochs), eval_losses)\n",
        "plt.legend(['train', 'test'])\n",
        "plt.xlabel('epoch')\n",
        "plt.ylabel('loss')\n",
        "plt.show()"
      ],
      "execution_count": 185,
      "outputs": [
        {
          "output_type": "display_data",
          "data": {
            "image/png": "[encoded data removed]",
            "text/plain": [
              "<Figure size 576x576 with 1 Axes>"
            ]
          },
          "metadata": {
            "tags": [],
            "needs_background": "light"
          }
        }
      ]
    },
    {
      "cell_type": "code",
      "metadata": {
        "id": "hp5drHYdJhGe",
        "colab_type": "code",
        "colab": {}
      },
      "source": [
        "def show_random(model, dataset):\n",
        "  idx = np.random.choice(len(dataset))\n",
        "  img = dataset[idx][0].reshape(1, -1).to(colab_utils.get_device())\n",
        "  img_hat = model(img)\n",
        "  colab_utils.imshow(img.reshape(28, 28))\n",
        "  colab_utils.imshow(img_hat.reshape(28, 28))\n",
        "\n",
        "\n",
        "def sample(model):\n",
        "  colab_utils.imshow(model.sample().reshape(28, 28))\n",
        "\n",
        "\n",
        "def conditional_sample_random(model, dataset):\n",
        "  idx = np.random.choice(len(dataset))\n",
        "  img = dataset[idx][0].reshape(1, -1).to(colab_utils.get_device())\n",
        "  img[0, 300:600] = -1\n",
        "  colab_utils.imshow(img.reshape(28, 28))\n",
        "  plt.show()\n",
        "  print(\"Conditional Samples:\")\n",
        "  for i in range(5):\n",
        "    img_hat = model.sample(img)\n",
        "    colab_utils.imshow(img_hat.reshape(28, 28))"
      ],
      "execution_count": 0,
      "outputs": []
    },
    {
      "cell_type": "code",
      "metadata": {
        "id": "oe7SkYyP9eGi",
        "colab_type": "code",
        "outputId": "dd3a5015-d074-43fa-c98a-7f1e101390b9",
        "colab": {
          "base_uri": "https://localhost:8080/",
          "height": 479
        }
      },
      "source": [
        "show_random(model, test_loader.dataset)"
      ],
      "execution_count": 190,
      "outputs": [
        {
          "output_type": "display_data",
          "data": {
            "image/png": "[encoded data removed]",
            "text/plain": [
              "<Figure size 432x288 with 1 Axes>"
            ]
          },
          "metadata": {
            "tags": [],
            "needs_background": "light"
          }
        },
        {
          "output_type": "display_data",
          "data": {
            "image/png": "[encoded data removed]",
            "text/plain": [
              "<Figure size 432x288 with 1 Axes>"
            ]
          },
          "metadata": {
            "tags": [],
            "needs_background": "light"
          }
        }
      ]
    },
    {
      "cell_type": "code",
      "metadata": {
        "id": "MjgedWeLWSHa",
        "colab_type": "code",
        "outputId": "65fe0488-2e4a-478a-f416-eea55740b49a",
        "colab": {
          "base_uri": "https://localhost:8080/",
          "height": 248
        }
      },
      "source": [
        "sample(model)"
      ],
      "execution_count": 193,
      "outputs": [
        {
          "output_type": "display_data",
          "data": {
            "image/png": "[encoded data removed]",
            "text/plain": [
              "<Figure size 432x288 with 1 Axes>"
            ]
          },
          "metadata": {
            "tags": [],
            "needs_background": "light"
          }
        }
      ]
    },
    {
      "cell_type": "code",
      "metadata": {
        "id": "7shEvYcMTw5F",
        "colab_type": "code",
        "colab": {
          "base_uri": "https://localhost:8080/",
          "height": 1000
        },
        "outputId": "a7fff59d-1647-4b18-8cd4-1ff0548f4766"
      },
      "source": [
        "conditional_sample_random(model, test_loader.dataset)"
      ],
      "execution_count": 195,
      "outputs": [
        {
          "output_type": "display_data",
          "data": {
            "image/png": "[encoded data removed]",
            "text/plain": [
              "<Figure size 432x288 with 1 Axes>"
            ]
          },
          "metadata": {
            "tags": [],
            "needs_background": "light"
          }
        },
        {
          "output_type": "stream",
          "text": [
            "Conditional Samples:\n"
          ],
          "name": "stdout"
        },
        {
          "output_type": "display_data",
          "data": {
            "image/png": "[encoded data removed]",
            "text/plain": [
              "<Figure size 432x288 with 1 Axes>"
            ]
          },
          "metadata": {
            "tags": [],
            "needs_background": "light"
          }
        },
        {
          "output_type": "display_data",
          "data": {
            "image/png": "[encoded data removed]",
            "text/plain": [
              "<Figure size 432x288 with 1 Axes>"
            ]
          },
          "metadata": {
            "tags": [],
            "needs_background": "light"
          }
        },
        {
          "output_type": "display_data",
          "data": {
            "image/png": "[encoded data removed]",
            "text/plain": [
              "<Figure size 432x288 with 1 Axes>"
            ]
          },
          "metadata": {
            "tags": [],
            "needs_background": "light"
          }
        },
        {
          "output_type": "display_data",
          "data": {
            "image/png": "[encoded data removed]",
            "text/plain": [
              "<Figure size 432x288 with 1 Axes>"
            ]
          },
          "metadata": {
            "tags": [],
            "needs_background": "light"
          }
        },
        {
          "output_type": "display_data",
          "data": {
            "image/png": "[encoded data removed]",
            "text/plain": [
              "<Figure size 432x288 with 1 Axes>"
            ]
          },
          "metadata": {
            "tags": [],
            "needs_background": "light"
          }
        }
      ]
    }
  ]
}