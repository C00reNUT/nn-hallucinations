{
  "nbformat": 4,
  "nbformat_minor": 0,
  "metadata": {
    "colab": {
      "name": "NADE.ipynb",
      "provenance": [],
      "authorship_tag": "ABX9TyOJRQQtkWGLSnC+QwjTpWlh",
      "include_colab_link": true
    },
    "kernelspec": {
      "name": "python3",
      "display_name": "Python 3"
    },
    "accelerator": "GPU"
  },
  "cells": [
    {
      "cell_type": "markdown",
      "metadata": {
        "id": "view-in-github",
        "colab_type": "text"
      },
      "source": [
        "<a href=\"https://colab.research.google.com/github/EugenHotaj/nn-hallucinations/blob/master/NADE.ipynb\" target=\"_parent\"><img src=\"https://colab.research.google.com/assets/colab-badge.svg\" alt=\"Open In Colab\"/></a>"
      ]
    },
    {
      "cell_type": "code",
      "metadata": {
        "id": "cTESiyxn8VX3",
        "colab_type": "code",
        "outputId": "cd2bc067-1a48-4a4a-eb3d-46691efd5359",
        "colab": {
          "base_uri": "https://localhost:8080/",
          "height": 34
        }
      },
      "source": [
        "!git clone https://www.github.com/EugenHotaj/nn-hallucinations nn_hallucinations"
      ],
      "execution_count": 0,
      "outputs": [
        {
          "output_type": "stream",
          "text": [
            "fatal: destination path 'nn_hallucinations' already exists and is not an empty directory.\n"
          ],
          "name": "stdout"
        }
      ]
    },
    {
      "cell_type": "code",
      "metadata": {
        "id": "r65ruYyo1Hx_",
        "colab_type": "code",
        "colab": {}
      },
      "source": [
        "import matplotlib.pyplot as plt\n",
        "from nn_hallucinations import colab_utils\n",
        "import numpy as np\n",
        "import torch\n",
        "from torch import distributions \n",
        "from torch import nn\n",
        "from torch import optim\n",
        "from torch.utils import data\n",
        "import torchvision\n",
        "from torchvision import transforms\n",
        "from torchvision import datasets"
      ],
      "execution_count": 0,
      "outputs": []
    },
    {
      "cell_type": "code",
      "metadata": {
        "id": "begUtRNreGO6",
        "colab_type": "code",
        "colab": {}
      },
      "source": [
        "def flatten(x):\n",
        "  return x.view(-1)\n",
        "  \n",
        "\n",
        "def binarize(x):\n",
        "  # TODO(eugenhotaj): Since binarize is called once per epoch, examples will\n",
        "  # be sampled slightly different each epoch.\n",
        "  return distributions.Bernoulli(probs=x).sample()"
      ],
      "execution_count": 0,
      "outputs": []
    },
    {
      "cell_type": "code",
      "metadata": {
        "id": "aVZCCtQT8Men",
        "colab_type": "code",
        "colab": {}
      },
      "source": [
        "BATCH_SIZE = 512\n",
        "TRANSFORM = transforms.Compose([\n",
        "    transforms.ToTensor(),\n",
        "    flatten,\n",
        "    binarize])\n",
        "\n",
        "train_loader = data.DataLoader(\n",
        "    datasets.MNIST('../data', train=True, download=True, transform=TRANSFORM),\n",
        "    batch_size=BATCH_SIZE, \n",
        "    shuffle=True)\n",
        "test_loader = data.DataLoader(\n",
        "    datasets.MNIST('../data', train=False, download=True,transform=TRANSFORM),\n",
        "    batch_size=BATCH_SIZE*2)"
      ],
      "execution_count": 0,
      "outputs": []
    },
    {
      "cell_type": "code",
      "metadata": {
        "id": "jOMNxV5i-KsN",
        "colab_type": "code",
        "colab": {}
      },
      "source": [
        "class NADE(nn.Module):\n",
        "  \"\"\"Implementation of the Neural Autoregressive Distribution Estimator (NADE).\n",
        "\n",
        "  NADE can be viewed as a one hidden layer autoencoder trained with a \"language\n",
        "  model criterion\", i.e. trained to approximate p(x_i | x_{j<i}). The \n",
        "  connectivity pattern of NADE is specialized to enable this training criterion.\n",
        "  \n",
        "  For full details, see the paper by Larochelle & Murray (2011).\n",
        "  \"\"\"\n",
        "\n",
        "  def __init__(self, input_dim, hidden_dim):\n",
        "    \"\"\"Initializes a new NADE instance.\n",
        "\n",
        "    Args:\n",
        "      input_dim: The dimension of the input.\n",
        "      hidden_dim: The dimmension of the hidden layer. NADE only supports one\n",
        "        hidden layer.\n",
        "    \"\"\"\n",
        "    super().__init__()\n",
        "    self._input_dim = input_dim\n",
        "    self._hidden_dim = hidden_dim\n",
        "    self.params = nn.ParameterDict({\n",
        "      'in_W': nn.Parameter(torch.zeros(self._hidden_dim, self._input_dim)),\n",
        "      'in_b': nn.Parameter(torch.zeros(self._hidden_dim,)),\n",
        "      'h_W': nn.Parameter(torch.zeros(self._input_dim, self._hidden_dim)),\n",
        "      'h_b': nn.Parameter(torch.zeros(self._input_dim,)),\n",
        "    })\n",
        "    nn.init.kaiming_normal_(self.params['in_W'])\n",
        "    nn.init.kaiming_normal_(self.params['h_W'])\n",
        "\n",
        "  def _forward(self, x):\n",
        "    \"\"\"Computes a forward pass and samples a new output.\n",
        "    \n",
        "    Returns:\n",
        "      (p_hat, x_hat) where p_hat is the probability distribution over dimensions\n",
        "      and x_hat *might* be sampled from p_hat. See the 'sample' method for\n",
        "      specifics of sampling.\n",
        "    \"\"\"\n",
        "    in_W, in_b = self.params['in_W'], self.params['in_b']\n",
        "    h_W, h_b = self.params['h_W'], self.params['h_b']\n",
        "    batch_size = 1 if x is None else x.shape[0] \n",
        "\n",
        "    p_hat = []\n",
        "    x_hat = []\n",
        "    # Only the bias is used to compute the first hidden unit so we must \n",
        "    # replicate it to account for the batch size.\n",
        "    a = in_b.expand(batch_size, -1)\n",
        "    for i in range(self._input_dim):\n",
        "      h = torch.relu(a)\n",
        "      p_i = torch.sigmoid(h_b[i:i+1] + h @ h_W[i:i+1, :].t())\n",
        "      p_hat.append(p_i)\n",
        "\n",
        "      # Sample 'x' at dimension 'i' if it is not given.\n",
        "      x_i = x[:, i:i+1]\n",
        "      x_i = torch.where(x_i < 0, \n",
        "                        distributions.Bernoulli(probs=p_i).sample(),\n",
        "                        x_i)\n",
        "      x_hat.append(x_i)\n",
        "\n",
        "      # We do not need to add in_b[i:i+1] when computing the other hidden units\n",
        "      # since it was already added when computing the first hidden unit. \n",
        "      a = a + x_i @ in_W[:, i:i+1].t()\n",
        "    return torch.cat(p_hat, dim=1), torch.cat(x_hat, dim=1) if x_hat else []\n",
        "\n",
        "  def forward(self, x):\n",
        "    \"\"\"Computes a forward pass.\"\"\"\n",
        "    # return self._forward(x)[0]\n",
        "    return self._forward(x)[0]\n",
        "\n",
        "  def sample(self, conditioned_on=None):\n",
        "    \"\"\"Samples a new image.\n",
        "    \n",
        "    Args:\n",
        "      conditioned_on: An (optional) image to condition samples on. Only \n",
        "        dimensions with values < 0 will be sampled. For example, if \n",
        "        conditioned_on[i] = -1, then output[i] will be sampled conditioned on\n",
        "        dimensions j < i. If 'None', an unconditional sample will be generated.\n",
        "    \"\"\"\n",
        "    with torch.no_grad():\n",
        "      if conditioned_on is None:\n",
        "        device = next(self.parameters()).device\n",
        "        conditioned_on = (torch.ones((1, self._input_dim)) * -1).to(device)\n",
        "      return self._forward(conditioned_on)[1]"
      ],
      "execution_count": 0,
      "outputs": []
    },
    {
      "cell_type": "code",
      "metadata": {
        "id": "zNKgweVxXZnR",
        "colab_type": "code",
        "colab": {}
      },
      "source": [
        "def train(model, \n",
        "          optimizer, \n",
        "          loss_fn, \n",
        "          train_loader, \n",
        "          eval_loader,\n",
        "          n_epochs,\n",
        "          device=torch.device('cpu')):\n",
        "  model = model.to(device)\n",
        "\n",
        "  train_losses = []\n",
        "  eval_losses = []\n",
        "  for epoch in range(n_epochs):\n",
        "    model.train()\n",
        "\n",
        "    train_loss = 0.\n",
        "    n_examples = 0\n",
        "    for x, _ in train_loader:\n",
        "      x = x.to(device)\n",
        "      n_examples += x.shape[0]\n",
        "      \n",
        "      optimizer.zero_grad()\n",
        "      x_hat = model(x)\n",
        "      loss = loss_fn(x_hat, x)\n",
        "      loss.backward()\n",
        "      optimizer.step()\n",
        "      train_loss += loss.item() * x.shape[0]\n",
        "    train_loss = train_loss / n_examples\n",
        "    eval_loss = eval(model, optimizer, loss_fn, eval_loader, device)\n",
        "    print(f'[{epoch + 1}] train_loss={train_loss} eval_loss={eval_loss}')\n",
        "    train_losses.append(train_loss)\n",
        "    eval_losses.append(eval_loss)\n",
        "\n",
        "  return train_losses, eval_losses \n",
        "\n",
        "def eval(model, optimizer, loss_fn, eval_loader, device=torch.device('cpu')):\n",
        "  model = model.to(device)\n",
        "  model.eval()\n",
        "\n",
        "  eval_loss = 0.\n",
        "  n_examples = 0\n",
        "  with torch.no_grad():\n",
        "    for x, _ in eval_loader:\n",
        "      x = x.to(device)\n",
        "      n_examples += x.shape[0]\n",
        "\n",
        "      x_hat = model(x)\n",
        "      loss = loss_fn(x_hat, x)\n",
        "      eval_loss += loss.item() * x.shape[0]\n",
        "  return eval_loss / n_examples "
      ],
      "execution_count": 0,
      "outputs": []
    },
    {
      "cell_type": "code",
      "metadata": {
        "id": "umq315H3vvs6",
        "colab_type": "code",
        "outputId": "4157fb92-0591-453f-ee27-e73b39cb75a2",
        "colab": {
          "base_uri": "https://localhost:8080/",
          "height": 867
        }
      },
      "source": [
        "INPUT_SIZE = 784\n",
        "HIDDEN_SIZE = 784\n",
        "N_EPOCHS = 50\n",
        "\n",
        "model = NADE(INPUT_SIZE, HIDDEN_SIZE).to(colab_utils.get_device())\n",
        "optimizer = optim.Adam(model.parameters())\n",
        "bce_loss_fn = nn.BCELoss(reduction='none')\n",
        "loss_fn = lambda y_hat, y: bce_loss_fn(y_hat, y).sum(dim=1).mean()\n",
        "\n",
        "train_losses, eval_losses = train(model, \n",
        "                                  optimizer, \n",
        "                                  loss_fn, \n",
        "                                  train_loader, \n",
        "                                  test_loader, \n",
        "                                  N_EPOCHS, \n",
        "                                  colab_utils.get_device())"
      ],
      "execution_count": 122,
      "outputs": [
        {
          "output_type": "stream",
          "text": [
            "[1] train_loss=195.2101052734375 eval_loss=113.79951000976563\n",
            "[2] train_loss=106.5165678141276 eval_loss=100.13169954833984\n",
            "[3] train_loss=98.7624634765625 eval_loss=95.97132420654297\n",
            "[4] train_loss=95.66003694661458 eval_loss=93.85800509033203\n",
            "[5] train_loss=93.88181385498046 eval_loss=92.59775539550782\n",
            "[6] train_loss=92.67671538085938 eval_loss=91.64253970947266\n",
            "[7] train_loss=91.78545729166666 eval_loss=90.84754544677735\n",
            "[8] train_loss=91.02877840983074 eval_loss=90.17508248291016\n",
            "[9] train_loss=90.36942124430338 eval_loss=89.72037819824219\n",
            "[10] train_loss=89.8851544148763 eval_loss=89.31890919189453\n",
            "[11] train_loss=89.42845310872396 eval_loss=88.93714747314453\n",
            "[12] train_loss=89.02986235351563 eval_loss=88.48451390380859\n",
            "[13] train_loss=88.648012109375 eval_loss=88.36587416992188\n",
            "[14] train_loss=88.30377129720053 eval_loss=88.01166525878907\n",
            "[15] train_loss=88.07166848958333 eval_loss=87.77003194580078\n",
            "[16] train_loss=87.77766849365234 eval_loss=87.52743040771485\n",
            "[17] train_loss=87.49401634114584 eval_loss=87.16569571533203\n",
            "[18] train_loss=87.31086629231771 eval_loss=87.15313349609374\n",
            "[19] train_loss=87.08961717936198 eval_loss=87.00648911132812\n",
            "[20] train_loss=86.86428211669921 eval_loss=86.95833179931641\n",
            "[21] train_loss=86.7068172241211 eval_loss=86.6259553100586\n",
            "[22] train_loss=86.56969027099609 eval_loss=86.53008830566407\n",
            "[23] train_loss=86.37983655598958 eval_loss=86.48353865966797\n",
            "[24] train_loss=86.21397347005208 eval_loss=86.47600361328125\n",
            "[25] train_loss=86.09034108479818 eval_loss=86.25236092529296\n",
            "[26] train_loss=85.98583435058593 eval_loss=86.07536535644532\n",
            "[27] train_loss=85.82190016682942 eval_loss=86.06852641601563\n",
            "[28] train_loss=85.71483818766276 eval_loss=86.06786881103515\n",
            "[29] train_loss=85.60752047932942 eval_loss=85.84848028564453\n",
            "[30] train_loss=85.46924938151042 eval_loss=85.62794923095703\n",
            "[31] train_loss=85.4165642985026 eval_loss=85.68688646240234\n",
            "[32] train_loss=85.34078096110026 eval_loss=85.62015227050782\n",
            "[33] train_loss=85.21451294759115 eval_loss=85.6276761352539\n",
            "[34] train_loss=85.1258514811198 eval_loss=85.51029622802734\n",
            "[35] train_loss=85.03513957112631 eval_loss=85.47990604248047\n",
            "[36] train_loss=84.99208830566407 eval_loss=85.38276217041016\n",
            "[37] train_loss=84.9039749226888 eval_loss=85.4305313720703\n",
            "[38] train_loss=84.85242778727213 eval_loss=85.34967873535156\n",
            "[39] train_loss=84.73196932779948 eval_loss=85.19221226806641\n",
            "[40] train_loss=84.69782695719401 eval_loss=85.22205778808593\n",
            "[41] train_loss=84.55360004882813 eval_loss=85.10141474609375\n",
            "[42] train_loss=84.55949638264974 eval_loss=85.02761235351562\n",
            "[43] train_loss=84.49378706461589 eval_loss=84.99381538085937\n",
            "[44] train_loss=84.41786451009115 eval_loss=85.01545994873047\n",
            "[45] train_loss=84.3991730875651 eval_loss=84.90155041503907\n",
            "[46] train_loss=84.32616984456381 eval_loss=84.89426696777343\n",
            "[47] train_loss=84.24084240722657 eval_loss=84.94602864990235\n",
            "[48] train_loss=84.2402639811198 eval_loss=84.95109052734375\n",
            "[49] train_loss=84.15642658284506 eval_loss=84.6717883544922\n",
            "[50] train_loss=84.14541438802084 eval_loss=84.73387416992188\n"
          ],
          "name": "stdout"
        }
      ]
    },
    {
      "cell_type": "code",
      "metadata": {
        "id": "dKLxqIdv2E3Y",
        "colab_type": "code",
        "colab": {
          "base_uri": "https://localhost:8080/",
          "height": 498
        },
        "outputId": "6e6ec403-6203-4a19-c6f1-4f0dfe483aee"
      },
      "source": [
        "epochs = len(train_losses)\n",
        "plt.figure(figsize=(8, 8))\n",
        "plt.plot(range(epochs), train_losses)\n",
        "plt.plot(range(epochs), eval_losses)\n",
        "plt.legend(['train', 'test'])\n",
        "plt.xlabel('epoch')\n",
        "plt.ylabel('loss')\n",
        "plt.show()"
      ],
      "execution_count": 123,
      "outputs": [
        {
          "output_type": "display_data",
          "data": {
            "image/png": "[encoded data removed]",
            "text/plain": [
              "<Figure size 576x576 with 1 Axes>"
            ]
          },
          "metadata": {
            "tags": [],
            "needs_background": "light"
          }
        }
      ]
    },
    {
      "cell_type": "code",
      "metadata": {
        "id": "hp5drHYdJhGe",
        "colab_type": "code",
        "colab": {}
      },
      "source": [
        "def show_random(model, dataset):\n",
        "  idx = np.random.choice(len(dataset))\n",
        "  img = dataset[idx][0].reshape(1, -1).to(colab_utils.get_device())\n",
        "  img_hat = model(img)\n",
        "  colab_utils.imshow(img.reshape(28, 28))\n",
        "  colab_utils.imshow(img_hat.reshape(28, 28))"
      ],
      "execution_count": 0,
      "outputs": []
    },
    {
      "cell_type": "code",
      "metadata": {
        "id": "Pg96rjPqLK8n",
        "colab_type": "code",
        "outputId": "758eb300-9fc5-4f95-811f-2e9e94b4c8bc",
        "colab": {
          "base_uri": "https://localhost:8080/",
          "height": 479
        }
      },
      "source": [
        "show_random(model, test_loader.dataset)"
      ],
      "execution_count": 125,
      "outputs": [
        {
          "output_type": "display_data",
          "data": {
            "image/png": "[encoded data removed]",
            "text/plain": [
              "<Figure size 432x288 with 1 Axes>"
            ]
          },
          "metadata": {
            "tags": [],
            "needs_background": "light"
          }
        },
        {
          "output_type": "display_data",
          "data": {
            "image/png": "[encoded data removed]",
            "text/plain": [
              "<Figure size 432x288 with 1 Axes>"
            ]
          },
          "metadata": {
            "tags": [],
            "needs_background": "light"
          }
        }
      ]
    },
    {
      "cell_type": "code",
      "metadata": {
        "id": "wz-HkuMg9V8S",
        "colab_type": "code",
        "outputId": "68a75de1-2bde-4ff0-80a6-6d9811da500c",
        "colab": {
          "base_uri": "https://localhost:8080/",
          "height": 248
        }
      },
      "source": [
        "colab_utils.imshow(model.sample().reshape(28, 28))"
      ],
      "execution_count": 140,
      "outputs": [
        {
          "output_type": "display_data",
          "data": {
            "image/png": "[encoded data removed]",
            "text/plain": [
              "<Figure size 432x288 with 1 Axes>"
            ]
          },
          "metadata": {
            "tags": [],
            "needs_background": "light"
          }
        }
      ]
    },
    {
      "cell_type": "code",
      "metadata": {
        "id": "yG6o5ySz7RRm",
        "colab_type": "code",
        "colab": {}
      },
      "source": [
        "def conditional_sample_random(model, dataset):\n",
        "  idx = np.random.choice(len(dataset))\n",
        "  img = dataset[idx][0].reshape(1, -1).to(colab_utils.get_device())\n",
        "  img[0, 300:600] = -1\n",
        "  colab_utils.imshow(img.reshape(28, 28))\n",
        "  plt.show()\n",
        "  print(\"Conditional Samples:\")\n",
        "  for i in range(5):\n",
        "    img_hat = model.sample(img)\n",
        "    colab_utils.imshow(img_hat.reshape(28, 28))"
      ],
      "execution_count": 0,
      "outputs": []
    },
    {
      "cell_type": "code",
      "metadata": {
        "id": "YFJbwIf2_4Ji",
        "colab_type": "code",
        "outputId": "7e9e9e62-c6cd-4cb6-814f-fab9b846179d",
        "colab": {
          "base_uri": "https://localhost:8080/",
          "height": 1000
        }
      },
      "source": [
        "conditional_sample_random(model, test_loader.dataset)"
      ],
      "execution_count": 142,
      "outputs": [
        {
          "output_type": "display_data",
          "data": {
            "image/png": "[encoded data removed]",
            "text/plain": [
              "<Figure size 432x288 with 1 Axes>"
            ]
          },
          "metadata": {
            "tags": [],
            "needs_background": "light"
          }
        },
        {
          "output_type": "stream",
          "text": [
            "Conditional Samples:\n"
          ],
          "name": "stdout"
        },
        {
          "output_type": "display_data",
          "data": {
            "image/png": "[encoded data removed]",
            "text/plain": [
              "<Figure size 432x288 with 1 Axes>"
            ]
          },
          "metadata": {
            "tags": [],
            "needs_background": "light"
          }
        },
        {
          "output_type": "display_data",
          "data": {
            "image/png": "[encoded data removed]",
            "text/plain": [
              "<Figure size 432x288 with 1 Axes>"
            ]
          },
          "metadata": {
            "tags": [],
            "needs_background": "light"
          }
        },
        {
          "output_type": "display_data",
          "data": {
            "image/png": "[encoded data removed]",
            "text/plain": [
              "<Figure size 432x288 with 1 Axes>"
            ]
          },
          "metadata": {
            "tags": [],
            "needs_background": "light"
          }
        },
        {
          "output_type": "display_data",
          "data": {
            "image/png": "[encoded data removed]",
            "text/plain": [
              "<Figure size 432x288 with 1 Axes>"
            ]
          },
          "metadata": {
            "tags": [],
            "needs_background": "light"
          }
        },
        {
          "output_type": "display_data",
          "data": {
            "image/png": "[encoded data removed]",
            "text/plain": [
              "<Figure size 432x288 with 1 Axes>"
            ]
          },
          "metadata": {
            "tags": [],
            "needs_background": "light"
          }
        }
      ]
    }
  ]
}