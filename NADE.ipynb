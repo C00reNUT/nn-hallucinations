{
  "nbformat": 4,
  "nbformat_minor": 0,
  "metadata": {
    "colab": {
      "name": "NADE.ipynb",
      "provenance": [],
      "authorship_tag": "ABX9TyO4ExSm3khvObOeSkoGVTGv",
      "include_colab_link": true
    },
    "kernelspec": {
      "name": "python3",
      "display_name": "Python 3"
    },
    "accelerator": "GPU",
    "widgets": {
      "application/vnd.jupyter.widget-state+json": {
        "1f881a41f0364710827763381b3ff7c7": {
          "model_module": "@jupyter-widgets/controls",
          "model_name": "HBoxModel",
          "state": {
            "_view_name": "HBoxView",
            "_dom_classes": [],
            "_model_name": "HBoxModel",
            "_view_module": "@jupyter-widgets/controls",
            "_model_module_version": "1.5.0",
            "_view_count": null,
            "_view_module_version": "1.5.0",
            "box_style": "",
            "layout": "IPY_MODEL_9c6dcadfb55a41398efbb271ff18034b",
            "_model_module": "@jupyter-widgets/controls",
            "children": [
              "IPY_MODEL_4fb1cf30a49b4c358beb6461d84f154f",
              "IPY_MODEL_ada68f98827844878441cba530ecb374"
            ]
          }
        },
        "9c6dcadfb55a41398efbb271ff18034b": {
          "model_module": "@jupyter-widgets/base",
          "model_name": "LayoutModel",
          "state": {
            "_view_name": "LayoutView",
            "grid_template_rows": null,
            "right": null,
            "justify_content": null,
            "_view_module": "@jupyter-widgets/base",
            "overflow": null,
            "_model_module_version": "1.2.0",
            "_view_count": null,
            "flex_flow": null,
            "width": null,
            "min_width": null,
            "border": null,
            "align_items": null,
            "bottom": null,
            "_model_module": "@jupyter-widgets/base",
            "top": null,
            "grid_column": null,
            "overflow_y": null,
            "overflow_x": null,
            "grid_auto_flow": null,
            "grid_area": null,
            "grid_template_columns": null,
            "flex": null,
            "_model_name": "LayoutModel",
            "justify_items": null,
            "grid_row": null,
            "max_height": null,
            "align_content": null,
            "visibility": null,
            "align_self": null,
            "height": null,
            "min_height": null,
            "padding": null,
            "grid_auto_rows": null,
            "grid_gap": null,
            "max_width": null,
            "order": null,
            "_view_module_version": "1.2.0",
            "grid_template_areas": null,
            "object_position": null,
            "object_fit": null,
            "grid_auto_columns": null,
            "margin": null,
            "display": null,
            "left": null
          }
        },
        "4fb1cf30a49b4c358beb6461d84f154f": {
          "model_module": "@jupyter-widgets/controls",
          "model_name": "FloatProgressModel",
          "state": {
            "_view_name": "ProgressView",
            "style": "IPY_MODEL_17595f5ce19c45c0a28d2032871e997b",
            "_dom_classes": [],
            "description": "",
            "_model_name": "FloatProgressModel",
            "bar_style": "info",
            "max": 1,
            "_view_module": "@jupyter-widgets/controls",
            "_model_module_version": "1.5.0",
            "value": 1,
            "_view_count": null,
            "_view_module_version": "1.5.0",
            "orientation": "horizontal",
            "min": 0,
            "description_tooltip": null,
            "_model_module": "@jupyter-widgets/controls",
            "layout": "IPY_MODEL_83fd34dbd20447ea8b8b3999b52514c9"
          }
        },
        "ada68f98827844878441cba530ecb374": {
          "model_module": "@jupyter-widgets/controls",
          "model_name": "HTMLModel",
          "state": {
            "_view_name": "HTMLView",
            "style": "IPY_MODEL_af9c106141b94dbc825af065992b5052",
            "_dom_classes": [],
            "description": "",
            "_model_name": "HTMLModel",
            "placeholder": "​",
            "_view_module": "@jupyter-widgets/controls",
            "_model_module_version": "1.5.0",
            "value": " 9920512/? [00:20&lt;00:00, 1073072.17it/s]",
            "_view_count": null,
            "_view_module_version": "1.5.0",
            "description_tooltip": null,
            "_model_module": "@jupyter-widgets/controls",
            "layout": "IPY_MODEL_e5a58901e1f946d298796a87f901e23f"
          }
        },
        "17595f5ce19c45c0a28d2032871e997b": {
          "model_module": "@jupyter-widgets/controls",
          "model_name": "ProgressStyleModel",
          "state": {
            "_view_name": "StyleView",
            "_model_name": "ProgressStyleModel",
            "description_width": "initial",
            "_view_module": "@jupyter-widgets/base",
            "_model_module_version": "1.5.0",
            "_view_count": null,
            "_view_module_version": "1.2.0",
            "bar_color": null,
            "_model_module": "@jupyter-widgets/controls"
          }
        },
        "83fd34dbd20447ea8b8b3999b52514c9": {
          "model_module": "@jupyter-widgets/base",
          "model_name": "LayoutModel",
          "state": {
            "_view_name": "LayoutView",
            "grid_template_rows": null,
            "right": null,
            "justify_content": null,
            "_view_module": "@jupyter-widgets/base",
            "overflow": null,
            "_model_module_version": "1.2.0",
            "_view_count": null,
            "flex_flow": null,
            "width": null,
            "min_width": null,
            "border": null,
            "align_items": null,
            "bottom": null,
            "_model_module": "@jupyter-widgets/base",
            "top": null,
            "grid_column": null,
            "overflow_y": null,
            "overflow_x": null,
            "grid_auto_flow": null,
            "grid_area": null,
            "grid_template_columns": null,
            "flex": null,
            "_model_name": "LayoutModel",
            "justify_items": null,
            "grid_row": null,
            "max_height": null,
            "align_content": null,
            "visibility": null,
            "align_self": null,
            "height": null,
            "min_height": null,
            "padding": null,
            "grid_auto_rows": null,
            "grid_gap": null,
            "max_width": null,
            "order": null,
            "_view_module_version": "1.2.0",
            "grid_template_areas": null,
            "object_position": null,
            "object_fit": null,
            "grid_auto_columns": null,
            "margin": null,
            "display": null,
            "left": null
          }
        },
        "af9c106141b94dbc825af065992b5052": {
          "model_module": "@jupyter-widgets/controls",
          "model_name": "DescriptionStyleModel",
          "state": {
            "_view_name": "StyleView",
            "_model_name": "DescriptionStyleModel",
            "description_width": "",
            "_view_module": "@jupyter-widgets/base",
            "_model_module_version": "1.5.0",
            "_view_count": null,
            "_view_module_version": "1.2.0",
            "_model_module": "@jupyter-widgets/controls"
          }
        },
        "e5a58901e1f946d298796a87f901e23f": {
          "model_module": "@jupyter-widgets/base",
          "model_name": "LayoutModel",
          "state": {
            "_view_name": "LayoutView",
            "grid_template_rows": null,
            "right": null,
            "justify_content": null,
            "_view_module": "@jupyter-widgets/base",
            "overflow": null,
            "_model_module_version": "1.2.0",
            "_view_count": null,
            "flex_flow": null,
            "width": null,
            "min_width": null,
            "border": null,
            "align_items": null,
            "bottom": null,
            "_model_module": "@jupyter-widgets/base",
            "top": null,
            "grid_column": null,
            "overflow_y": null,
            "overflow_x": null,
            "grid_auto_flow": null,
            "grid_area": null,
            "grid_template_columns": null,
            "flex": null,
            "_model_name": "LayoutModel",
            "justify_items": null,
            "grid_row": null,
            "max_height": null,
            "align_content": null,
            "visibility": null,
            "align_self": null,
            "height": null,
            "min_height": null,
            "padding": null,
            "grid_auto_rows": null,
            "grid_gap": null,
            "max_width": null,
            "order": null,
            "_view_module_version": "1.2.0",
            "grid_template_areas": null,
            "object_position": null,
            "object_fit": null,
            "grid_auto_columns": null,
            "margin": null,
            "display": null,
            "left": null
          }
        },
        "d0f45ba0a73544f5b94863e299b2899f": {
          "model_module": "@jupyter-widgets/controls",
          "model_name": "HBoxModel",
          "state": {
            "_view_name": "HBoxView",
            "_dom_classes": [],
            "_model_name": "HBoxModel",
            "_view_module": "@jupyter-widgets/controls",
            "_model_module_version": "1.5.0",
            "_view_count": null,
            "_view_module_version": "1.5.0",
            "box_style": "",
            "layout": "IPY_MODEL_5fabd9caec4d4cbf883da055353657fa",
            "_model_module": "@jupyter-widgets/controls",
            "children": [
              "IPY_MODEL_2a218fe2e3b14772baa18ac9a2cebe1b",
              "IPY_MODEL_69f2c455b8f641258f300c58575e1b07"
            ]
          }
        },
        "5fabd9caec4d4cbf883da055353657fa": {
          "model_module": "@jupyter-widgets/base",
          "model_name": "LayoutModel",
          "state": {
            "_view_name": "LayoutView",
            "grid_template_rows": null,
            "right": null,
            "justify_content": null,
            "_view_module": "@jupyter-widgets/base",
            "overflow": null,
            "_model_module_version": "1.2.0",
            "_view_count": null,
            "flex_flow": null,
            "width": null,
            "min_width": null,
            "border": null,
            "align_items": null,
            "bottom": null,
            "_model_module": "@jupyter-widgets/base",
            "top": null,
            "grid_column": null,
            "overflow_y": null,
            "overflow_x": null,
            "grid_auto_flow": null,
            "grid_area": null,
            "grid_template_columns": null,
            "flex": null,
            "_model_name": "LayoutModel",
            "justify_items": null,
            "grid_row": null,
            "max_height": null,
            "align_content": null,
            "visibility": null,
            "align_self": null,
            "height": null,
            "min_height": null,
            "padding": null,
            "grid_auto_rows": null,
            "grid_gap": null,
            "max_width": null,
            "order": null,
            "_view_module_version": "1.2.0",
            "grid_template_areas": null,
            "object_position": null,
            "object_fit": null,
            "grid_auto_columns": null,
            "margin": null,
            "display": null,
            "left": null
          }
        },
        "2a218fe2e3b14772baa18ac9a2cebe1b": {
          "model_module": "@jupyter-widgets/controls",
          "model_name": "FloatProgressModel",
          "state": {
            "_view_name": "ProgressView",
            "style": "IPY_MODEL_dec5d1271b494983bd85069e70dbfa9d",
            "_dom_classes": [],
            "description": "",
            "_model_name": "FloatProgressModel",
            "bar_style": "success",
            "max": 1,
            "_view_module": "@jupyter-widgets/controls",
            "_model_module_version": "1.5.0",
            "value": 1,
            "_view_count": null,
            "_view_module_version": "1.5.0",
            "orientation": "horizontal",
            "min": 0,
            "description_tooltip": null,
            "_model_module": "@jupyter-widgets/controls",
            "layout": "IPY_MODEL_a243a801182a466cac58709f77f7132f"
          }
        },
        "69f2c455b8f641258f300c58575e1b07": {
          "model_module": "@jupyter-widgets/controls",
          "model_name": "HTMLModel",
          "state": {
            "_view_name": "HTMLView",
            "style": "IPY_MODEL_20f0b4ade1a74677ad03991984255bdd",
            "_dom_classes": [],
            "description": "",
            "_model_name": "HTMLModel",
            "placeholder": "​",
            "_view_module": "@jupyter-widgets/controls",
            "_model_module_version": "1.5.0",
            "value": " 32768/? [00:00&lt;00:00, 36768.28it/s]",
            "_view_count": null,
            "_view_module_version": "1.5.0",
            "description_tooltip": null,
            "_model_module": "@jupyter-widgets/controls",
            "layout": "IPY_MODEL_aba8f2013166439090a6a0c2bde451a9"
          }
        },
        "dec5d1271b494983bd85069e70dbfa9d": {
          "model_module": "@jupyter-widgets/controls",
          "model_name": "ProgressStyleModel",
          "state": {
            "_view_name": "StyleView",
            "_model_name": "ProgressStyleModel",
            "description_width": "initial",
            "_view_module": "@jupyter-widgets/base",
            "_model_module_version": "1.5.0",
            "_view_count": null,
            "_view_module_version": "1.2.0",
            "bar_color": null,
            "_model_module": "@jupyter-widgets/controls"
          }
        },
        "a243a801182a466cac58709f77f7132f": {
          "model_module": "@jupyter-widgets/base",
          "model_name": "LayoutModel",
          "state": {
            "_view_name": "LayoutView",
            "grid_template_rows": null,
            "right": null,
            "justify_content": null,
            "_view_module": "@jupyter-widgets/base",
            "overflow": null,
            "_model_module_version": "1.2.0",
            "_view_count": null,
            "flex_flow": null,
            "width": null,
            "min_width": null,
            "border": null,
            "align_items": null,
            "bottom": null,
            "_model_module": "@jupyter-widgets/base",
            "top": null,
            "grid_column": null,
            "overflow_y": null,
            "overflow_x": null,
            "grid_auto_flow": null,
            "grid_area": null,
            "grid_template_columns": null,
            "flex": null,
            "_model_name": "LayoutModel",
            "justify_items": null,
            "grid_row": null,
            "max_height": null,
            "align_content": null,
            "visibility": null,
            "align_self": null,
            "height": null,
            "min_height": null,
            "padding": null,
            "grid_auto_rows": null,
            "grid_gap": null,
            "max_width": null,
            "order": null,
            "_view_module_version": "1.2.0",
            "grid_template_areas": null,
            "object_position": null,
            "object_fit": null,
            "grid_auto_columns": null,
            "margin": null,
            "display": null,
            "left": null
          }
        },
        "20f0b4ade1a74677ad03991984255bdd": {
          "model_module": "@jupyter-widgets/controls",
          "model_name": "DescriptionStyleModel",
          "state": {
            "_view_name": "StyleView",
            "_model_name": "DescriptionStyleModel",
            "description_width": "",
            "_view_module": "@jupyter-widgets/base",
            "_model_module_version": "1.5.0",
            "_view_count": null,
            "_view_module_version": "1.2.0",
            "_model_module": "@jupyter-widgets/controls"
          }
        },
        "aba8f2013166439090a6a0c2bde451a9": {
          "model_module": "@jupyter-widgets/base",
          "model_name": "LayoutModel",
          "state": {
            "_view_name": "LayoutView",
            "grid_template_rows": null,
            "right": null,
            "justify_content": null,
            "_view_module": "@jupyter-widgets/base",
            "overflow": null,
            "_model_module_version": "1.2.0",
            "_view_count": null,
            "flex_flow": null,
            "width": null,
            "min_width": null,
            "border": null,
            "align_items": null,
            "bottom": null,
            "_model_module": "@jupyter-widgets/base",
            "top": null,
            "grid_column": null,
            "overflow_y": null,
            "overflow_x": null,
            "grid_auto_flow": null,
            "grid_area": null,
            "grid_template_columns": null,
            "flex": null,
            "_model_name": "LayoutModel",
            "justify_items": null,
            "grid_row": null,
            "max_height": null,
            "align_content": null,
            "visibility": null,
            "align_self": null,
            "height": null,
            "min_height": null,
            "padding": null,
            "grid_auto_rows": null,
            "grid_gap": null,
            "max_width": null,
            "order": null,
            "_view_module_version": "1.2.0",
            "grid_template_areas": null,
            "object_position": null,
            "object_fit": null,
            "grid_auto_columns": null,
            "margin": null,
            "display": null,
            "left": null
          }
        },
        "2f619a3c078e4bbf8f6d850cd51969ae": {
          "model_module": "@jupyter-widgets/controls",
          "model_name": "HBoxModel",
          "state": {
            "_view_name": "HBoxView",
            "_dom_classes": [],
            "_model_name": "HBoxModel",
            "_view_module": "@jupyter-widgets/controls",
            "_model_module_version": "1.5.0",
            "_view_count": null,
            "_view_module_version": "1.5.0",
            "box_style": "",
            "layout": "IPY_MODEL_7333a17799dd4f0296b257cf75aa8e1c",
            "_model_module": "@jupyter-widgets/controls",
            "children": [
              "IPY_MODEL_e96ace1637bb4d818a874d54f712897d",
              "IPY_MODEL_155f0592245845f6a712e95b5cccb47d"
            ]
          }
        },
        "7333a17799dd4f0296b257cf75aa8e1c": {
          "model_module": "@jupyter-widgets/base",
          "model_name": "LayoutModel",
          "state": {
            "_view_name": "LayoutView",
            "grid_template_rows": null,
            "right": null,
            "justify_content": null,
            "_view_module": "@jupyter-widgets/base",
            "overflow": null,
            "_model_module_version": "1.2.0",
            "_view_count": null,
            "flex_flow": null,
            "width": null,
            "min_width": null,
            "border": null,
            "align_items": null,
            "bottom": null,
            "_model_module": "@jupyter-widgets/base",
            "top": null,
            "grid_column": null,
            "overflow_y": null,
            "overflow_x": null,
            "grid_auto_flow": null,
            "grid_area": null,
            "grid_template_columns": null,
            "flex": null,
            "_model_name": "LayoutModel",
            "justify_items": null,
            "grid_row": null,
            "max_height": null,
            "align_content": null,
            "visibility": null,
            "align_self": null,
            "height": null,
            "min_height": null,
            "padding": null,
            "grid_auto_rows": null,
            "grid_gap": null,
            "max_width": null,
            "order": null,
            "_view_module_version": "1.2.0",
            "grid_template_areas": null,
            "object_position": null,
            "object_fit": null,
            "grid_auto_columns": null,
            "margin": null,
            "display": null,
            "left": null
          }
        },
        "e96ace1637bb4d818a874d54f712897d": {
          "model_module": "@jupyter-widgets/controls",
          "model_name": "FloatProgressModel",
          "state": {
            "_view_name": "ProgressView",
            "style": "IPY_MODEL_c335e8a12744440ea0702c60825fb36f",
            "_dom_classes": [],
            "description": "",
            "_model_name": "FloatProgressModel",
            "bar_style": "success",
            "max": 1,
            "_view_module": "@jupyter-widgets/controls",
            "_model_module_version": "1.5.0",
            "value": 1,
            "_view_count": null,
            "_view_module_version": "1.5.0",
            "orientation": "horizontal",
            "min": 0,
            "description_tooltip": null,
            "_model_module": "@jupyter-widgets/controls",
            "layout": "IPY_MODEL_dadc435e35304654813a445b7643ee97"
          }
        },
        "155f0592245845f6a712e95b5cccb47d": {
          "model_module": "@jupyter-widgets/controls",
          "model_name": "HTMLModel",
          "state": {
            "_view_name": "HTMLView",
            "style": "IPY_MODEL_9e6e3e93f5fb45bc864eb7b7dbd5c244",
            "_dom_classes": [],
            "description": "",
            "_model_name": "HTMLModel",
            "placeholder": "​",
            "_view_module": "@jupyter-widgets/controls",
            "_model_module_version": "1.5.0",
            "value": " 1654784/? [00:00&lt;00:00, 2717039.74it/s]",
            "_view_count": null,
            "_view_module_version": "1.5.0",
            "description_tooltip": null,
            "_model_module": "@jupyter-widgets/controls",
            "layout": "IPY_MODEL_ce31f3125b774922ae94387ce83dbcc9"
          }
        },
        "c335e8a12744440ea0702c60825fb36f": {
          "model_module": "@jupyter-widgets/controls",
          "model_name": "ProgressStyleModel",
          "state": {
            "_view_name": "StyleView",
            "_model_name": "ProgressStyleModel",
            "description_width": "initial",
            "_view_module": "@jupyter-widgets/base",
            "_model_module_version": "1.5.0",
            "_view_count": null,
            "_view_module_version": "1.2.0",
            "bar_color": null,
            "_model_module": "@jupyter-widgets/controls"
          }
        },
        "dadc435e35304654813a445b7643ee97": {
          "model_module": "@jupyter-widgets/base",
          "model_name": "LayoutModel",
          "state": {
            "_view_name": "LayoutView",
            "grid_template_rows": null,
            "right": null,
            "justify_content": null,
            "_view_module": "@jupyter-widgets/base",
            "overflow": null,
            "_model_module_version": "1.2.0",
            "_view_count": null,
            "flex_flow": null,
            "width": null,
            "min_width": null,
            "border": null,
            "align_items": null,
            "bottom": null,
            "_model_module": "@jupyter-widgets/base",
            "top": null,
            "grid_column": null,
            "overflow_y": null,
            "overflow_x": null,
            "grid_auto_flow": null,
            "grid_area": null,
            "grid_template_columns": null,
            "flex": null,
            "_model_name": "LayoutModel",
            "justify_items": null,
            "grid_row": null,
            "max_height": null,
            "align_content": null,
            "visibility": null,
            "align_self": null,
            "height": null,
            "min_height": null,
            "padding": null,
            "grid_auto_rows": null,
            "grid_gap": null,
            "max_width": null,
            "order": null,
            "_view_module_version": "1.2.0",
            "grid_template_areas": null,
            "object_position": null,
            "object_fit": null,
            "grid_auto_columns": null,
            "margin": null,
            "display": null,
            "left": null
          }
        },
        "9e6e3e93f5fb45bc864eb7b7dbd5c244": {
          "model_module": "@jupyter-widgets/controls",
          "model_name": "DescriptionStyleModel",
          "state": {
            "_view_name": "StyleView",
            "_model_name": "DescriptionStyleModel",
            "description_width": "",
            "_view_module": "@jupyter-widgets/base",
            "_model_module_version": "1.5.0",
            "_view_count": null,
            "_view_module_version": "1.2.0",
            "_model_module": "@jupyter-widgets/controls"
          }
        },
        "ce31f3125b774922ae94387ce83dbcc9": {
          "model_module": "@jupyter-widgets/base",
          "model_name": "LayoutModel",
          "state": {
            "_view_name": "LayoutView",
            "grid_template_rows": null,
            "right": null,
            "justify_content": null,
            "_view_module": "@jupyter-widgets/base",
            "overflow": null,
            "_model_module_version": "1.2.0",
            "_view_count": null,
            "flex_flow": null,
            "width": null,
            "min_width": null,
            "border": null,
            "align_items": null,
            "bottom": null,
            "_model_module": "@jupyter-widgets/base",
            "top": null,
            "grid_column": null,
            "overflow_y": null,
            "overflow_x": null,
            "grid_auto_flow": null,
            "grid_area": null,
            "grid_template_columns": null,
            "flex": null,
            "_model_name": "LayoutModel",
            "justify_items": null,
            "grid_row": null,
            "max_height": null,
            "align_content": null,
            "visibility": null,
            "align_self": null,
            "height": null,
            "min_height": null,
            "padding": null,
            "grid_auto_rows": null,
            "grid_gap": null,
            "max_width": null,
            "order": null,
            "_view_module_version": "1.2.0",
            "grid_template_areas": null,
            "object_position": null,
            "object_fit": null,
            "grid_auto_columns": null,
            "margin": null,
            "display": null,
            "left": null
          }
        },
        "57a56b32cba44fe6a268eb4c3d6919df": {
          "model_module": "@jupyter-widgets/controls",
          "model_name": "HBoxModel",
          "state": {
            "_view_name": "HBoxView",
            "_dom_classes": [],
            "_model_name": "HBoxModel",
            "_view_module": "@jupyter-widgets/controls",
            "_model_module_version": "1.5.0",
            "_view_count": null,
            "_view_module_version": "1.5.0",
            "box_style": "",
            "layout": "IPY_MODEL_429080922d89404da2c43cb0e95c7d29",
            "_model_module": "@jupyter-widgets/controls",
            "children": [
              "IPY_MODEL_566e968030d1489a84bccafef951d560",
              "IPY_MODEL_0f06d3fd984c428682693d8180cb5602"
            ]
          }
        },
        "429080922d89404da2c43cb0e95c7d29": {
          "model_module": "@jupyter-widgets/base",
          "model_name": "LayoutModel",
          "state": {
            "_view_name": "LayoutView",
            "grid_template_rows": null,
            "right": null,
            "justify_content": null,
            "_view_module": "@jupyter-widgets/base",
            "overflow": null,
            "_model_module_version": "1.2.0",
            "_view_count": null,
            "flex_flow": null,
            "width": null,
            "min_width": null,
            "border": null,
            "align_items": null,
            "bottom": null,
            "_model_module": "@jupyter-widgets/base",
            "top": null,
            "grid_column": null,
            "overflow_y": null,
            "overflow_x": null,
            "grid_auto_flow": null,
            "grid_area": null,
            "grid_template_columns": null,
            "flex": null,
            "_model_name": "LayoutModel",
            "justify_items": null,
            "grid_row": null,
            "max_height": null,
            "align_content": null,
            "visibility": null,
            "align_self": null,
            "height": null,
            "min_height": null,
            "padding": null,
            "grid_auto_rows": null,
            "grid_gap": null,
            "max_width": null,
            "order": null,
            "_view_module_version": "1.2.0",
            "grid_template_areas": null,
            "object_position": null,
            "object_fit": null,
            "grid_auto_columns": null,
            "margin": null,
            "display": null,
            "left": null
          }
        },
        "566e968030d1489a84bccafef951d560": {
          "model_module": "@jupyter-widgets/controls",
          "model_name": "FloatProgressModel",
          "state": {
            "_view_name": "ProgressView",
            "style": "IPY_MODEL_63af133f7768427689cfaeb382293a0a",
            "_dom_classes": [],
            "description": "",
            "_model_name": "FloatProgressModel",
            "bar_style": "success",
            "max": 1,
            "_view_module": "@jupyter-widgets/controls",
            "_model_module_version": "1.5.0",
            "value": 1,
            "_view_count": null,
            "_view_module_version": "1.5.0",
            "orientation": "horizontal",
            "min": 0,
            "description_tooltip": null,
            "_model_module": "@jupyter-widgets/controls",
            "layout": "IPY_MODEL_72b1fedd2bf6452a83b67aa9c0f816bf"
          }
        },
        "0f06d3fd984c428682693d8180cb5602": {
          "model_module": "@jupyter-widgets/controls",
          "model_name": "HTMLModel",
          "state": {
            "_view_name": "HTMLView",
            "style": "IPY_MODEL_1b1ed96555f940c39149f9fdea2d33c3",
            "_dom_classes": [],
            "description": "",
            "_model_name": "HTMLModel",
            "placeholder": "​",
            "_view_module": "@jupyter-widgets/controls",
            "_model_module_version": "1.5.0",
            "value": " 8192/? [00:00&lt;00:00, 23816.17it/s]",
            "_view_count": null,
            "_view_module_version": "1.5.0",
            "description_tooltip": null,
            "_model_module": "@jupyter-widgets/controls",
            "layout": "IPY_MODEL_9cf77e0910fe4fddac19e328a1e62e65"
          }
        },
        "63af133f7768427689cfaeb382293a0a": {
          "model_module": "@jupyter-widgets/controls",
          "model_name": "ProgressStyleModel",
          "state": {
            "_view_name": "StyleView",
            "_model_name": "ProgressStyleModel",
            "description_width": "initial",
            "_view_module": "@jupyter-widgets/base",
            "_model_module_version": "1.5.0",
            "_view_count": null,
            "_view_module_version": "1.2.0",
            "bar_color": null,
            "_model_module": "@jupyter-widgets/controls"
          }
        },
        "72b1fedd2bf6452a83b67aa9c0f816bf": {
          "model_module": "@jupyter-widgets/base",
          "model_name": "LayoutModel",
          "state": {
            "_view_name": "LayoutView",
            "grid_template_rows": null,
            "right": null,
            "justify_content": null,
            "_view_module": "@jupyter-widgets/base",
            "overflow": null,
            "_model_module_version": "1.2.0",
            "_view_count": null,
            "flex_flow": null,
            "width": null,
            "min_width": null,
            "border": null,
            "align_items": null,
            "bottom": null,
            "_model_module": "@jupyter-widgets/base",
            "top": null,
            "grid_column": null,
            "overflow_y": null,
            "overflow_x": null,
            "grid_auto_flow": null,
            "grid_area": null,
            "grid_template_columns": null,
            "flex": null,
            "_model_name": "LayoutModel",
            "justify_items": null,
            "grid_row": null,
            "max_height": null,
            "align_content": null,
            "visibility": null,
            "align_self": null,
            "height": null,
            "min_height": null,
            "padding": null,
            "grid_auto_rows": null,
            "grid_gap": null,
            "max_width": null,
            "order": null,
            "_view_module_version": "1.2.0",
            "grid_template_areas": null,
            "object_position": null,
            "object_fit": null,
            "grid_auto_columns": null,
            "margin": null,
            "display": null,
            "left": null
          }
        },
        "1b1ed96555f940c39149f9fdea2d33c3": {
          "model_module": "@jupyter-widgets/controls",
          "model_name": "DescriptionStyleModel",
          "state": {
            "_view_name": "StyleView",
            "_model_name": "DescriptionStyleModel",
            "description_width": "",
            "_view_module": "@jupyter-widgets/base",
            "_model_module_version": "1.5.0",
            "_view_count": null,
            "_view_module_version": "1.2.0",
            "_model_module": "@jupyter-widgets/controls"
          }
        },
        "9cf77e0910fe4fddac19e328a1e62e65": {
          "model_module": "@jupyter-widgets/base",
          "model_name": "LayoutModel",
          "state": {
            "_view_name": "LayoutView",
            "grid_template_rows": null,
            "right": null,
            "justify_content": null,
            "_view_module": "@jupyter-widgets/base",
            "overflow": null,
            "_model_module_version": "1.2.0",
            "_view_count": null,
            "flex_flow": null,
            "width": null,
            "min_width": null,
            "border": null,
            "align_items": null,
            "bottom": null,
            "_model_module": "@jupyter-widgets/base",
            "top": null,
            "grid_column": null,
            "overflow_y": null,
            "overflow_x": null,
            "grid_auto_flow": null,
            "grid_area": null,
            "grid_template_columns": null,
            "flex": null,
            "_model_name": "LayoutModel",
            "justify_items": null,
            "grid_row": null,
            "max_height": null,
            "align_content": null,
            "visibility": null,
            "align_self": null,
            "height": null,
            "min_height": null,
            "padding": null,
            "grid_auto_rows": null,
            "grid_gap": null,
            "max_width": null,
            "order": null,
            "_view_module_version": "1.2.0",
            "grid_template_areas": null,
            "object_position": null,
            "object_fit": null,
            "grid_auto_columns": null,
            "margin": null,
            "display": null,
            "left": null
          }
        }
      }
    }
  },
  "cells": [
    {
      "cell_type": "markdown",
      "metadata": {
        "id": "view-in-github",
        "colab_type": "text"
      },
      "source": [
        "<a href=\"https://colab.research.google.com/github/EugenHotaj/nn-hallucinations/blob/master/NADE.ipynb\" target=\"_parent\"><img src=\"https://colab.research.google.com/assets/colab-badge.svg\" alt=\"Open In Colab\"/></a>"
      ]
    },
    {
      "cell_type": "code",
      "metadata": {
        "id": "cTESiyxn8VX3",
        "colab_type": "code",
        "outputId": "958c0208-06ae-42e2-8733-4569d087a398",
        "colab": {
          "base_uri": "https://localhost:8080/",
          "height": 136
        }
      },
      "source": [
        "!git clone https://www.github.com/EugenHotaj/nn-hallucinations nn_hallucinations"
      ],
      "execution_count": 1,
      "outputs": [
        {
          "output_type": "stream",
          "text": [
            "Cloning into 'nn_hallucinations'...\n",
            "warning: redirecting to https://github.com/EugenHotaj/nn-hallucinations.git/\n",
            "remote: Enumerating objects: 50, done.\u001b[K\n",
            "remote: Counting objects: 100% (50/50), done.\u001b[K\n",
            "remote: Compressing objects: 100% (42/42), done.\u001b[K\n",
            "remote: Total 50 (delta 23), reused 19 (delta 8), pack-reused 0\u001b[K\n",
            "Unpacking objects: 100% (50/50), done.\n"
          ],
          "name": "stdout"
        }
      ]
    },
    {
      "cell_type": "code",
      "metadata": {
        "id": "r65ruYyo1Hx_",
        "colab_type": "code",
        "colab": {}
      },
      "source": [
        "import matplotlib.pyplot as plt\n",
        "from nn_hallucinations import colab_utils\n",
        "import numpy as np\n",
        "import torch\n",
        "from torch import distributions \n",
        "from torch import nn\n",
        "from torch import optim\n",
        "from torch.utils import data\n",
        "import torchvision\n",
        "from torchvision import transforms\n",
        "from torchvision import datasets"
      ],
      "execution_count": 0,
      "outputs": []
    },
    {
      "cell_type": "code",
      "metadata": {
        "id": "begUtRNreGO6",
        "colab_type": "code",
        "colab": {}
      },
      "source": [
        "def flatten(x):\n",
        "  return x.view(-1)\n",
        "  \n",
        "\n",
        "def binarize(x):\n",
        "  # TODO(eugenhotaj): Since binarize is called once per epoch, examples will\n",
        "  # be sampled slightly different each epoch.\n",
        "  return distributions.Bernoulli(probs=x).sample()"
      ],
      "execution_count": 0,
      "outputs": []
    },
    {
      "cell_type": "code",
      "metadata": {
        "id": "aVZCCtQT8Men",
        "colab_type": "code",
        "colab": {
          "base_uri": "https://localhost:8080/",
          "height": 403,
          "referenced_widgets": [
            "1f881a41f0364710827763381b3ff7c7",
            "9c6dcadfb55a41398efbb271ff18034b",
            "4fb1cf30a49b4c358beb6461d84f154f",
            "ada68f98827844878441cba530ecb374",
            "17595f5ce19c45c0a28d2032871e997b",
            "83fd34dbd20447ea8b8b3999b52514c9",
            "af9c106141b94dbc825af065992b5052",
            "e5a58901e1f946d298796a87f901e23f",
            "d0f45ba0a73544f5b94863e299b2899f",
            "5fabd9caec4d4cbf883da055353657fa",
            "2a218fe2e3b14772baa18ac9a2cebe1b",
            "69f2c455b8f641258f300c58575e1b07",
            "dec5d1271b494983bd85069e70dbfa9d",
            "a243a801182a466cac58709f77f7132f",
            "20f0b4ade1a74677ad03991984255bdd",
            "aba8f2013166439090a6a0c2bde451a9",
            "2f619a3c078e4bbf8f6d850cd51969ae",
            "7333a17799dd4f0296b257cf75aa8e1c",
            "e96ace1637bb4d818a874d54f712897d",
            "155f0592245845f6a712e95b5cccb47d",
            "c335e8a12744440ea0702c60825fb36f",
            "dadc435e35304654813a445b7643ee97",
            "9e6e3e93f5fb45bc864eb7b7dbd5c244",
            "ce31f3125b774922ae94387ce83dbcc9",
            "57a56b32cba44fe6a268eb4c3d6919df",
            "429080922d89404da2c43cb0e95c7d29",
            "566e968030d1489a84bccafef951d560",
            "0f06d3fd984c428682693d8180cb5602",
            "63af133f7768427689cfaeb382293a0a",
            "72b1fedd2bf6452a83b67aa9c0f816bf",
            "1b1ed96555f940c39149f9fdea2d33c3",
            "9cf77e0910fe4fddac19e328a1e62e65"
          ]
        },
        "outputId": "00a450ec-18d4-482e-f44c-8425c7ed0c49"
      },
      "source": [
        "BATCH_SIZE = 512\n",
        "TRANSFORM = transforms.Compose([\n",
        "    transforms.ToTensor(),\n",
        "    flatten,\n",
        "    binarize])\n",
        "\n",
        "train_loader = data.DataLoader(\n",
        "    datasets.MNIST('../data', train=True, download=True, transform=TRANSFORM),\n",
        "    batch_size=BATCH_SIZE, \n",
        "    shuffle=True)\n",
        "test_loader = data.DataLoader(\n",
        "    datasets.MNIST('../data', train=False, download=True,transform=TRANSFORM),\n",
        "    batch_size=BATCH_SIZE*2)"
      ],
      "execution_count": 4,
      "outputs": [
        {
          "output_type": "stream",
          "text": [
            "Downloading http://yann.lecun.com/exdb/mnist/train-images-idx3-ubyte.gz to ../data/MNIST/raw/train-images-idx3-ubyte.gz\n"
          ],
          "name": "stdout"
        },
        {
          "output_type": "display_data",
          "data": {
            "application/vnd.jupyter.widget-view+json": {
              "model_id": "1f881a41f0364710827763381b3ff7c7",
              "version_minor": 0,
              "version_major": 2
            },
            "text/plain": [
              "HBox(children=(FloatProgress(value=1.0, bar_style='info', max=1.0), HTML(value='')))"
            ]
          },
          "metadata": {
            "tags": []
          }
        },
        {
          "output_type": "stream",
          "text": [
            "Extracting ../data/MNIST/raw/train-images-idx3-ubyte.gz to ../data/MNIST/raw\n",
            "Downloading http://yann.lecun.com/exdb/mnist/train-labels-idx1-ubyte.gz to ../data/MNIST/raw/train-labels-idx1-ubyte.gz\n"
          ],
          "name": "stdout"
        },
        {
          "output_type": "display_data",
          "data": {
            "application/vnd.jupyter.widget-view+json": {
              "model_id": "d0f45ba0a73544f5b94863e299b2899f",
              "version_minor": 0,
              "version_major": 2
            },
            "text/plain": [
              "HBox(children=(FloatProgress(value=1.0, bar_style='info', max=1.0), HTML(value='')))"
            ]
          },
          "metadata": {
            "tags": []
          }
        },
        {
          "output_type": "stream",
          "text": [
            "Extracting ../data/MNIST/raw/train-labels-idx1-ubyte.gz to ../data/MNIST/raw\n",
            "Downloading http://yann.lecun.com/exdb/mnist/t10k-images-idx3-ubyte.gz to ../data/MNIST/raw/t10k-images-idx3-ubyte.gz\n"
          ],
          "name": "stdout"
        },
        {
          "output_type": "display_data",
          "data": {
            "application/vnd.jupyter.widget-view+json": {
              "model_id": "2f619a3c078e4bbf8f6d850cd51969ae",
              "version_minor": 0,
              "version_major": 2
            },
            "text/plain": [
              "HBox(children=(FloatProgress(value=1.0, bar_style='info', max=1.0), HTML(value='')))"
            ]
          },
          "metadata": {
            "tags": []
          }
        },
        {
          "output_type": "stream",
          "text": [
            "Extracting ../data/MNIST/raw/t10k-images-idx3-ubyte.gz to ../data/MNIST/raw\n",
            "Downloading http://yann.lecun.com/exdb/mnist/t10k-labels-idx1-ubyte.gz to ../data/MNIST/raw/t10k-labels-idx1-ubyte.gz\n"
          ],
          "name": "stdout"
        },
        {
          "output_type": "display_data",
          "data": {
            "application/vnd.jupyter.widget-view+json": {
              "model_id": "57a56b32cba44fe6a268eb4c3d6919df",
              "version_minor": 0,
              "version_major": 2
            },
            "text/plain": [
              "HBox(children=(FloatProgress(value=1.0, bar_style='info', max=1.0), HTML(value='')))"
            ]
          },
          "metadata": {
            "tags": []
          }
        },
        {
          "output_type": "stream",
          "text": [
            "Extracting ../data/MNIST/raw/t10k-labels-idx1-ubyte.gz to ../data/MNIST/raw\n",
            "Processing...\n",
            "Done!\n",
            "\n",
            "\n",
            "\n"
          ],
          "name": "stdout"
        },
        {
          "output_type": "stream",
          "text": [
            "/pytorch/torch/csrc/utils/tensor_numpy.cpp:141: UserWarning: The given NumPy array is not writeable, and PyTorch does not support non-writeable tensors. This means you can write to the underlying (supposedly non-writeable) NumPy array using the tensor. You may want to copy the array to protect its data or make it writeable before converting it to a tensor. This type of warning will be suppressed for the rest of this program.\n"
          ],
          "name": "stderr"
        }
      ]
    },
    {
      "cell_type": "code",
      "metadata": {
        "id": "jOMNxV5i-KsN",
        "colab_type": "code",
        "colab": {}
      },
      "source": [
        "class NADE(nn.Module):\n",
        "  \"\"\"Implementation of the Neural Autoregressive Distribution Estimator (NADE).\n",
        "  \n",
        "  Full details available in the paper by Larochelle & Murray (2011).\n",
        "  \"\"\"\n",
        "\n",
        "  def __init__(self, input_dim, hidden_dim):\n",
        "    \"\"\"Initializes a new NADE instance.\n",
        "    \n",
        "    Args:\n",
        "      input_dim: The dimension of the input.\n",
        "      hidden_dim: The dimmension of the hidden layer. NADE only supports one\n",
        "        hidden layer.\n",
        "    \"\"\"\n",
        "    super().__init__()\n",
        "    self._input_dim = input_dim\n",
        "    self._hidden_dim = hidden_dim\n",
        "    self.params = nn.ParameterDict({\n",
        "      'in_W': nn.Parameter(torch.zeros(self._hidden_dim, self._input_dim)),\n",
        "      'in_b': nn.Parameter(torch.zeros(self._hidden_dim,)),\n",
        "      'h_W': nn.Parameter(torch.zeros(self._input_dim, self._hidden_dim)),\n",
        "      'h_b': nn.Parameter(torch.zeros(self._input_dim,)),\n",
        "    })\n",
        "    nn.init.xavier_normal_(self.params['in_W'])\n",
        "    nn.init.xavier_normal_(self.params['h_W'])\n",
        "\n",
        "  # TODO(eugenhotaj): We can probably make training a lot more efficient by \n",
        "  # sequentially computing the hidden layer activations then computing the \n",
        "  # output layer in parallel. The hidden layer activations must be computed\n",
        "  # sequentially since the weights are tied between different units which gives\n",
        "  # NADE the autoregressive property. During inference, we must compute\n",
        "  # everything sequentially since we need the Model's output from the first \n",
        "  # unit to compute the second unit's output and so on.\n",
        "  def _forward(self, x=None):\n",
        "    \"\"\"TODO.\"\"\"\n",
        "    in_W, in_b = self.params['in_W'], self.params['in_b']\n",
        "    h_W, h_b = self.params['h_W'], self.params['h_b']\n",
        "    batch_size = 1 if x is None else x.shape[0] \n",
        "\n",
        "    p_hat = []\n",
        "    x_hat = []\n",
        "    a = in_b.expand(batch_size, -1)  # We need one 'a' per batch item.\n",
        "    for i in range(self._input_dim):\n",
        "      h = torch.sigmoid(a)\n",
        "      p_i = torch.sigmoid(h_b[i:i+1] + h @ h_W[i:i+1, :].t())\n",
        "      p_hat.append(p_i)\n",
        "      # If no 'x' is given, we must be sampling new values.\n",
        "      if x is None: \n",
        "        x_i = distributions.Bernoulli(probs=p_i).sample()\n",
        "        x_hat.append(x_i)\n",
        "      else:\n",
        "        x_i = x[:, i:i+1]\n",
        "      a = a + x_i @ in_W[:, i:i+1].t()\n",
        "    return torch.cat(p_hat, dim=1), torch.cat(x_hat, dim=1) if x_hat else []\n",
        "\n",
        "  def forward(self, x):\n",
        "    \"\"\"Runs forward propagation and returns the probabilities over pixels.\"\"\"\n",
        "    return self._forward(x)[0]\n",
        "\n",
        "  # TODO(eugenhotaj): Extend the sample method to allow for conditional samples.\n",
        "  # A straightforward way to do this is feed in -1s for the input dims which we\n",
        "  # want the model to predict. \n",
        "  def sample(self):\n",
        "    \"\"\"Samples a new image.\"\"\"\n",
        "    return self._forward()[1]"
      ],
      "execution_count": 0,
      "outputs": []
    },
    {
      "cell_type": "code",
      "metadata": {
        "id": "zNKgweVxXZnR",
        "colab_type": "code",
        "colab": {}
      },
      "source": [
        "def train(model, \n",
        "          optimizer, \n",
        "          loss_fn, \n",
        "          train_loader, \n",
        "          eval_loader,\n",
        "          n_epochs,\n",
        "          device=torch.device('cpu')):\n",
        "  model = model.to(device)\n",
        "\n",
        "  train_losses = []\n",
        "  eval_losses = []\n",
        "  for epoch in range(n_epochs):\n",
        "    model.train()\n",
        "\n",
        "    train_loss = 0.\n",
        "    n_examples = 0\n",
        "    for x, _ in train_loader:\n",
        "      x = x.to(device)\n",
        "      n_examples += x.shape[0]\n",
        "      \n",
        "      optimizer.zero_grad()\n",
        "      x_hat = model(x)\n",
        "      loss = loss_fn(x_hat, x)\n",
        "      loss.backward()\n",
        "      optimizer.step()\n",
        "      train_loss += loss.item() * x.shape[0]\n",
        "    train_loss = train_loss / n_examples\n",
        "    eval_loss = eval(model, optimizer, loss_fn, eval_loader, device)\n",
        "    print(f'[{epoch + 1}] train_loss={train_loss} eval_loss={eval_loss}')\n",
        "    train_losses.append(train_loss)\n",
        "    eval_losses.append(eval_loss)\n",
        "\n",
        "  return train_losses, eval_losses \n",
        "\n",
        "def eval(model, optimizer, loss_fn, eval_loader, device=torch.device('cpu')):\n",
        "  model = model.to(device)\n",
        "  model.eval()\n",
        "\n",
        "  eval_loss = 0.\n",
        "  n_examples = 0\n",
        "  with torch.no_grad():\n",
        "    for x, _ in eval_loader:\n",
        "      x = x.to(device)\n",
        "      n_examples += x.shape[0]\n",
        "\n",
        "      x_hat = model(x)\n",
        "      loss = loss_fn(x_hat, x)\n",
        "      eval_loss += loss.item() * x.shape[0]\n",
        "  return eval_loss / n_examples "
      ],
      "execution_count": 0,
      "outputs": []
    },
    {
      "cell_type": "code",
      "metadata": {
        "id": "umq315H3vvs6",
        "colab_type": "code",
        "outputId": "0c1613ea-6abb-48e4-9f71-2e5022563324",
        "colab": {
          "base_uri": "https://localhost:8080/",
          "height": 867
        }
      },
      "source": [
        "INPUT_SIZE = 784\n",
        "HIDDEN_SIZE = 500\n",
        "N_EPOCHS = 50\n",
        "\n",
        "model = NADE(INPUT_SIZE, HIDDEN_SIZE).to(colab_utils.get_device())\n",
        "optimizer = optim.Adam(model.parameters())\n",
        "bce_loss_fn = nn.BCELoss(reduction='none')\n",
        "loss_fn = lambda y_hat, y: bce_loss_fn(y_hat, y).sum(dim=1).mean()\n",
        "\n",
        "train_losses, eval_losses = train(model, \n",
        "                                  optimizer, \n",
        "                                  loss_fn, \n",
        "                                  train_loader, \n",
        "                                  test_loader, \n",
        "                                  N_EPOCHS, \n",
        "                                  colab_utils.get_device())"
      ],
      "execution_count": 14,
      "outputs": [
        {
          "output_type": "stream",
          "text": [
            "[1] train_loss=204.26982647298178 eval_loss=164.474951953125\n",
            "[2] train_loss=150.17785798339844 eval_loss=137.37583046875\n",
            "[3] train_loss=130.8940601969401 eval_loss=123.42357160644531\n",
            "[4] train_loss=120.1949154296875 eval_loss=115.38952692871094\n",
            "[5] train_loss=113.62762526855468 eval_loss=109.98153659667969\n",
            "[6] train_loss=109.15924593098958 eval_loss=106.32349350585937\n",
            "[7] train_loss=106.00254834798177 eval_loss=103.75104533691406\n",
            "[8] train_loss=103.7230135579427 eval_loss=101.63451696777344\n",
            "[9] train_loss=101.84871265462239 eval_loss=100.15334385986328\n",
            "[10] train_loss=100.4841255859375 eval_loss=98.83680317382813\n",
            "[11] train_loss=99.28014183756511 eval_loss=97.8914640258789\n",
            "[12] train_loss=98.27655700683594 eval_loss=97.04755789794922\n",
            "[13] train_loss=97.43894619547525 eval_loss=96.19424752197266\n",
            "[14] train_loss=96.6901845743815 eval_loss=95.59015716552734\n",
            "[15] train_loss=96.02470013834636 eval_loss=94.91009202880859\n",
            "[16] train_loss=95.46552294921875 eval_loss=94.47946805419922\n",
            "[17] train_loss=94.95378669026692 eval_loss=93.92229467773437\n",
            "[18] train_loss=94.45245540364583 eval_loss=93.60962856445313\n",
            "[19] train_loss=94.01020990397136 eval_loss=93.12348798828125\n",
            "[20] train_loss=93.64784614257813 eval_loss=92.816346875\n",
            "[21] train_loss=93.26567214355468 eval_loss=92.467663671875\n",
            "[22] train_loss=92.88470797932943 eval_loss=92.12185460205077\n",
            "[23] train_loss=92.62650393066406 eval_loss=91.91725756835937\n",
            "[24] train_loss=92.29960893554687 eval_loss=91.62489210205078\n",
            "[25] train_loss=92.01813108723958 eval_loss=91.40181535644531\n",
            "[26] train_loss=91.77792936604818 eval_loss=91.13824125976562\n",
            "[27] train_loss=91.48585332845052 eval_loss=90.97234056396485\n",
            "[28] train_loss=91.28773097330729 eval_loss=90.76201721191406\n",
            "[29] train_loss=91.09345217285156 eval_loss=90.46603104248047\n",
            "[30] train_loss=90.82031882324219 eval_loss=90.27708134765625\n",
            "[31] train_loss=90.5945940633138 eval_loss=90.17966693115234\n",
            "[32] train_loss=90.47287407226563 eval_loss=90.01681926269531\n",
            "[33] train_loss=90.22844134928386 eval_loss=89.87827265625\n",
            "[34] train_loss=90.05830098063151 eval_loss=89.77738442382812\n",
            "[35] train_loss=89.90650524495443 eval_loss=89.64494857177735\n",
            "[36] train_loss=89.73902960611979 eval_loss=89.48486795654297\n",
            "[37] train_loss=89.652489066569 eval_loss=89.39288967285157\n",
            "[38] train_loss=89.42583069661458 eval_loss=89.23103835449218\n",
            "[39] train_loss=89.3308307373047 eval_loss=89.08129334716797\n",
            "[40] train_loss=89.14350944824218 eval_loss=88.8981890258789\n",
            "[41] train_loss=89.07182904459636 eval_loss=88.83007720947266\n",
            "[42] train_loss=88.95924471435546 eval_loss=88.75081140136719\n",
            "[43] train_loss=88.77822568359375 eval_loss=88.60120372314454\n",
            "[44] train_loss=88.7165169921875 eval_loss=88.47373664550781\n",
            "[45] train_loss=88.57075619303386 eval_loss=88.42128876953124\n",
            "[46] train_loss=88.45591240234376 eval_loss=88.30859916992188\n",
            "[47] train_loss=88.42242750651042 eval_loss=88.20166363525391\n",
            "[48] train_loss=88.2531651936849 eval_loss=88.20178438720703\n",
            "[49] train_loss=88.21617402750651 eval_loss=88.01968911132812\n",
            "[50] train_loss=88.04653548177083 eval_loss=87.94805061035156\n"
          ],
          "name": "stdout"
        }
      ]
    },
    {
      "cell_type": "code",
      "metadata": {
        "id": "dKLxqIdv2E3Y",
        "colab_type": "code",
        "colab": {
          "base_uri": "https://localhost:8080/",
          "height": 497
        },
        "outputId": "25d4787b-6b6e-492e-b7e7-dfd007b826f1"
      },
      "source": [
        "# NOTE(ehotaj): We likely get a lower loss than what's reported in the NADE\n",
        "# paper because we \"re-binarize\" the training examples on each epoch. This acts\n",
        "# as a form of data-augmentation allowing our model to see many more training\n",
        "# examples.\n",
        "epochs = len(train_losses)\n",
        "plt.figure(figsize=(8, 8))\n",
        "plt.plot(range(epochs), train_losses)\n",
        "plt.plot(range(epochs), eval_losses)\n",
        "plt.legend(['train', 'test'])\n",
        "plt.xlabel('epoch')\n",
        "plt.ylabel('loss')\n",
        "plt.show()"
      ],
      "execution_count": 28,
      "outputs": [
        {
          "output_type": "display_data",
          "data": {
            "image/png": "[encoded data removed]",
            "text/plain": [
              "<Figure size 576x576 with 1 Axes>"
            ]
          },
          "metadata": {
            "tags": [],
            "needs_background": "light"
          }
        }
      ]
    },
    {
      "cell_type": "code",
      "metadata": {
        "id": "hp5drHYdJhGe",
        "colab_type": "code",
        "colab": {}
      },
      "source": [
        "def show_random(model, dataset):\n",
        "  idx = np.random.choice(len(dataset))\n",
        "  img = dataset[idx][0].reshape(1, -1).to(colab_utils.get_device())\n",
        "  img_hat = model(img)\n",
        "  colab_utils.imshow(img.reshape(28, 28))\n",
        "  colab_utils.imshow(img_hat.reshape(28, 28))"
      ],
      "execution_count": 0,
      "outputs": []
    },
    {
      "cell_type": "code",
      "metadata": {
        "id": "Pg96rjPqLK8n",
        "colab_type": "code",
        "colab": {
          "base_uri": "https://localhost:8080/",
          "height": 479
        },
        "outputId": "933b7079-b42c-44bf-f87b-d59225b4120b"
      },
      "source": [
        "show_random(model, test_loader.dataset)"
      ],
      "execution_count": 61,
      "outputs": [
        {
          "output_type": "display_data",
          "data": {
            "image/png": "[encoded data removed]",
            "text/plain": [
              "<Figure size 432x288 with 1 Axes>"
            ]
          },
          "metadata": {
            "tags": [],
            "needs_background": "light"
          }
        },
        {
          "output_type": "display_data",
          "data": {
            "image/png": "[encoded data removed]",
            "text/plain": [
              "<Figure size 432x288 with 1 Axes>"
            ]
          },
          "metadata": {
            "tags": [],
            "needs_background": "light"
          }
        }
      ]
    },
    {
      "cell_type": "code",
      "metadata": {
        "id": "vebdtxkNLfp_",
        "colab_type": "code",
        "colab": {
          "base_uri": "https://localhost:8080/",
          "height": 248
        },
        "outputId": "5769a68e-46da-47d2-a1a5-05c0829fb244"
      },
      "source": [
        "colab_utils.imshow(model.sample().reshape(28, 28))"
      ],
      "execution_count": 65,
      "outputs": [
        {
          "output_type": "display_data",
          "data": {
            "image/png": "[encoded data removed]",
            "text/plain": [
              "<Figure size 432x288 with 1 Axes>"
            ]
          },
          "metadata": {
            "tags": [],
            "needs_background": "light"
          }
        }
      ]
    }
  ]
}