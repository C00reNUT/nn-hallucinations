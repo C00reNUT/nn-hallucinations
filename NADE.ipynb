{
  "nbformat": 4,
  "nbformat_minor": 0,
  "metadata": {
    "colab": {
      "name": "NADE.ipynb",
      "provenance": [],
      "authorship_tag": "ABX9TyM0nfVL/waLNn/54JJZDzyk",
      "include_colab_link": true
    },
    "kernelspec": {
      "name": "python3",
      "display_name": "Python 3"
    },
    "accelerator": "GPU",
    "widgets": {
      "application/vnd.jupyter.widget-state+json": {
        "723f5a62c8e0409ea0d0745bba16e40d": {
          "model_module": "@jupyter-widgets/controls",
          "model_name": "HBoxModel",
          "state": {
            "_view_name": "HBoxView",
            "_dom_classes": [],
            "_model_name": "HBoxModel",
            "_view_module": "@jupyter-widgets/controls",
            "_model_module_version": "1.5.0",
            "_view_count": null,
            "_view_module_version": "1.5.0",
            "box_style": "",
            "layout": "IPY_MODEL_681d1ee0c3b4426dabf8a6cb14fbd945",
            "_model_module": "@jupyter-widgets/controls",
            "children": [
              "IPY_MODEL_1453a18d65d94fb3a886e8803a56c158",
              "IPY_MODEL_40c10b315a744c84bf4770d2ff093222"
            ]
          }
        },
        "681d1ee0c3b4426dabf8a6cb14fbd945": {
          "model_module": "@jupyter-widgets/base",
          "model_name": "LayoutModel",
          "state": {
            "_view_name": "LayoutView",
            "grid_template_rows": null,
            "right": null,
            "justify_content": null,
            "_view_module": "@jupyter-widgets/base",
            "overflow": null,
            "_model_module_version": "1.2.0",
            "_view_count": null,
            "flex_flow": null,
            "width": null,
            "min_width": null,
            "border": null,
            "align_items": null,
            "bottom": null,
            "_model_module": "@jupyter-widgets/base",
            "top": null,
            "grid_column": null,
            "overflow_y": null,
            "overflow_x": null,
            "grid_auto_flow": null,
            "grid_area": null,
            "grid_template_columns": null,
            "flex": null,
            "_model_name": "LayoutModel",
            "justify_items": null,
            "grid_row": null,
            "max_height": null,
            "align_content": null,
            "visibility": null,
            "align_self": null,
            "height": null,
            "min_height": null,
            "padding": null,
            "grid_auto_rows": null,
            "grid_gap": null,
            "max_width": null,
            "order": null,
            "_view_module_version": "1.2.0",
            "grid_template_areas": null,
            "object_position": null,
            "object_fit": null,
            "grid_auto_columns": null,
            "margin": null,
            "display": null,
            "left": null
          }
        },
        "1453a18d65d94fb3a886e8803a56c158": {
          "model_module": "@jupyter-widgets/controls",
          "model_name": "FloatProgressModel",
          "state": {
            "_view_name": "ProgressView",
            "style": "IPY_MODEL_226c15228982433b8a6d72822d2845d2",
            "_dom_classes": [],
            "description": "",
            "_model_name": "FloatProgressModel",
            "bar_style": "info",
            "max": 1,
            "_view_module": "@jupyter-widgets/controls",
            "_model_module_version": "1.5.0",
            "value": 1,
            "_view_count": null,
            "_view_module_version": "1.5.0",
            "orientation": "horizontal",
            "min": 0,
            "description_tooltip": null,
            "_model_module": "@jupyter-widgets/controls",
            "layout": "IPY_MODEL_d21bed04717f400096b34b16011d9c90"
          }
        },
        "40c10b315a744c84bf4770d2ff093222": {
          "model_module": "@jupyter-widgets/controls",
          "model_name": "HTMLModel",
          "state": {
            "_view_name": "HTMLView",
            "style": "IPY_MODEL_c506bffbe97f48cbaef69ce4840b5fee",
            "_dom_classes": [],
            "description": "",
            "_model_name": "HTMLModel",
            "placeholder": "​",
            "_view_module": "@jupyter-widgets/controls",
            "_model_module_version": "1.5.0",
            "value": " 9920512/? [00:20&lt;00:00, 1224510.53it/s]",
            "_view_count": null,
            "_view_module_version": "1.5.0",
            "description_tooltip": null,
            "_model_module": "@jupyter-widgets/controls",
            "layout": "IPY_MODEL_0df2395de734473f9e7906273bc0ceed"
          }
        },
        "226c15228982433b8a6d72822d2845d2": {
          "model_module": "@jupyter-widgets/controls",
          "model_name": "ProgressStyleModel",
          "state": {
            "_view_name": "StyleView",
            "_model_name": "ProgressStyleModel",
            "description_width": "initial",
            "_view_module": "@jupyter-widgets/base",
            "_model_module_version": "1.5.0",
            "_view_count": null,
            "_view_module_version": "1.2.0",
            "bar_color": null,
            "_model_module": "@jupyter-widgets/controls"
          }
        },
        "d21bed04717f400096b34b16011d9c90": {
          "model_module": "@jupyter-widgets/base",
          "model_name": "LayoutModel",
          "state": {
            "_view_name": "LayoutView",
            "grid_template_rows": null,
            "right": null,
            "justify_content": null,
            "_view_module": "@jupyter-widgets/base",
            "overflow": null,
            "_model_module_version": "1.2.0",
            "_view_count": null,
            "flex_flow": null,
            "width": null,
            "min_width": null,
            "border": null,
            "align_items": null,
            "bottom": null,
            "_model_module": "@jupyter-widgets/base",
            "top": null,
            "grid_column": null,
            "overflow_y": null,
            "overflow_x": null,
            "grid_auto_flow": null,
            "grid_area": null,
            "grid_template_columns": null,
            "flex": null,
            "_model_name": "LayoutModel",
            "justify_items": null,
            "grid_row": null,
            "max_height": null,
            "align_content": null,
            "visibility": null,
            "align_self": null,
            "height": null,
            "min_height": null,
            "padding": null,
            "grid_auto_rows": null,
            "grid_gap": null,
            "max_width": null,
            "order": null,
            "_view_module_version": "1.2.0",
            "grid_template_areas": null,
            "object_position": null,
            "object_fit": null,
            "grid_auto_columns": null,
            "margin": null,
            "display": null,
            "left": null
          }
        },
        "c506bffbe97f48cbaef69ce4840b5fee": {
          "model_module": "@jupyter-widgets/controls",
          "model_name": "DescriptionStyleModel",
          "state": {
            "_view_name": "StyleView",
            "_model_name": "DescriptionStyleModel",
            "description_width": "",
            "_view_module": "@jupyter-widgets/base",
            "_model_module_version": "1.5.0",
            "_view_count": null,
            "_view_module_version": "1.2.0",
            "_model_module": "@jupyter-widgets/controls"
          }
        },
        "0df2395de734473f9e7906273bc0ceed": {
          "model_module": "@jupyter-widgets/base",
          "model_name": "LayoutModel",
          "state": {
            "_view_name": "LayoutView",
            "grid_template_rows": null,
            "right": null,
            "justify_content": null,
            "_view_module": "@jupyter-widgets/base",
            "overflow": null,
            "_model_module_version": "1.2.0",
            "_view_count": null,
            "flex_flow": null,
            "width": null,
            "min_width": null,
            "border": null,
            "align_items": null,
            "bottom": null,
            "_model_module": "@jupyter-widgets/base",
            "top": null,
            "grid_column": null,
            "overflow_y": null,
            "overflow_x": null,
            "grid_auto_flow": null,
            "grid_area": null,
            "grid_template_columns": null,
            "flex": null,
            "_model_name": "LayoutModel",
            "justify_items": null,
            "grid_row": null,
            "max_height": null,
            "align_content": null,
            "visibility": null,
            "align_self": null,
            "height": null,
            "min_height": null,
            "padding": null,
            "grid_auto_rows": null,
            "grid_gap": null,
            "max_width": null,
            "order": null,
            "_view_module_version": "1.2.0",
            "grid_template_areas": null,
            "object_position": null,
            "object_fit": null,
            "grid_auto_columns": null,
            "margin": null,
            "display": null,
            "left": null
          }
        },
        "199dffe1c3e049ae837d0fdede1a80b4": {
          "model_module": "@jupyter-widgets/controls",
          "model_name": "HBoxModel",
          "state": {
            "_view_name": "HBoxView",
            "_dom_classes": [],
            "_model_name": "HBoxModel",
            "_view_module": "@jupyter-widgets/controls",
            "_model_module_version": "1.5.0",
            "_view_count": null,
            "_view_module_version": "1.5.0",
            "box_style": "",
            "layout": "IPY_MODEL_7763ae5724404c7d833866e3188aaa47",
            "_model_module": "@jupyter-widgets/controls",
            "children": [
              "IPY_MODEL_33b2d405dbe242d5bee47ee2746abc46",
              "IPY_MODEL_6d14ec0b695040adbdbe3b225b11526f"
            ]
          }
        },
        "7763ae5724404c7d833866e3188aaa47": {
          "model_module": "@jupyter-widgets/base",
          "model_name": "LayoutModel",
          "state": {
            "_view_name": "LayoutView",
            "grid_template_rows": null,
            "right": null,
            "justify_content": null,
            "_view_module": "@jupyter-widgets/base",
            "overflow": null,
            "_model_module_version": "1.2.0",
            "_view_count": null,
            "flex_flow": null,
            "width": null,
            "min_width": null,
            "border": null,
            "align_items": null,
            "bottom": null,
            "_model_module": "@jupyter-widgets/base",
            "top": null,
            "grid_column": null,
            "overflow_y": null,
            "overflow_x": null,
            "grid_auto_flow": null,
            "grid_area": null,
            "grid_template_columns": null,
            "flex": null,
            "_model_name": "LayoutModel",
            "justify_items": null,
            "grid_row": null,
            "max_height": null,
            "align_content": null,
            "visibility": null,
            "align_self": null,
            "height": null,
            "min_height": null,
            "padding": null,
            "grid_auto_rows": null,
            "grid_gap": null,
            "max_width": null,
            "order": null,
            "_view_module_version": "1.2.0",
            "grid_template_areas": null,
            "object_position": null,
            "object_fit": null,
            "grid_auto_columns": null,
            "margin": null,
            "display": null,
            "left": null
          }
        },
        "33b2d405dbe242d5bee47ee2746abc46": {
          "model_module": "@jupyter-widgets/controls",
          "model_name": "FloatProgressModel",
          "state": {
            "_view_name": "ProgressView",
            "style": "IPY_MODEL_12fb47ec59134999a1a00961c76db223",
            "_dom_classes": [],
            "description": "",
            "_model_name": "FloatProgressModel",
            "bar_style": "success",
            "max": 1,
            "_view_module": "@jupyter-widgets/controls",
            "_model_module_version": "1.5.0",
            "value": 1,
            "_view_count": null,
            "_view_module_version": "1.5.0",
            "orientation": "horizontal",
            "min": 0,
            "description_tooltip": null,
            "_model_module": "@jupyter-widgets/controls",
            "layout": "IPY_MODEL_f818890b0a664c66afabc235661eaaed"
          }
        },
        "6d14ec0b695040adbdbe3b225b11526f": {
          "model_module": "@jupyter-widgets/controls",
          "model_name": "HTMLModel",
          "state": {
            "_view_name": "HTMLView",
            "style": "IPY_MODEL_b21560baa2a1411a8e2b25cc08f6ee3d",
            "_dom_classes": [],
            "description": "",
            "_model_name": "HTMLModel",
            "placeholder": "​",
            "_view_module": "@jupyter-widgets/controls",
            "_model_module_version": "1.5.0",
            "value": " 32768/? [00:04&lt;00:00, 6829.76it/s]",
            "_view_count": null,
            "_view_module_version": "1.5.0",
            "description_tooltip": null,
            "_model_module": "@jupyter-widgets/controls",
            "layout": "IPY_MODEL_aded860c810c45e490559e2df21ea754"
          }
        },
        "12fb47ec59134999a1a00961c76db223": {
          "model_module": "@jupyter-widgets/controls",
          "model_name": "ProgressStyleModel",
          "state": {
            "_view_name": "StyleView",
            "_model_name": "ProgressStyleModel",
            "description_width": "initial",
            "_view_module": "@jupyter-widgets/base",
            "_model_module_version": "1.5.0",
            "_view_count": null,
            "_view_module_version": "1.2.0",
            "bar_color": null,
            "_model_module": "@jupyter-widgets/controls"
          }
        },
        "f818890b0a664c66afabc235661eaaed": {
          "model_module": "@jupyter-widgets/base",
          "model_name": "LayoutModel",
          "state": {
            "_view_name": "LayoutView",
            "grid_template_rows": null,
            "right": null,
            "justify_content": null,
            "_view_module": "@jupyter-widgets/base",
            "overflow": null,
            "_model_module_version": "1.2.0",
            "_view_count": null,
            "flex_flow": null,
            "width": null,
            "min_width": null,
            "border": null,
            "align_items": null,
            "bottom": null,
            "_model_module": "@jupyter-widgets/base",
            "top": null,
            "grid_column": null,
            "overflow_y": null,
            "overflow_x": null,
            "grid_auto_flow": null,
            "grid_area": null,
            "grid_template_columns": null,
            "flex": null,
            "_model_name": "LayoutModel",
            "justify_items": null,
            "grid_row": null,
            "max_height": null,
            "align_content": null,
            "visibility": null,
            "align_self": null,
            "height": null,
            "min_height": null,
            "padding": null,
            "grid_auto_rows": null,
            "grid_gap": null,
            "max_width": null,
            "order": null,
            "_view_module_version": "1.2.0",
            "grid_template_areas": null,
            "object_position": null,
            "object_fit": null,
            "grid_auto_columns": null,
            "margin": null,
            "display": null,
            "left": null
          }
        },
        "b21560baa2a1411a8e2b25cc08f6ee3d": {
          "model_module": "@jupyter-widgets/controls",
          "model_name": "DescriptionStyleModel",
          "state": {
            "_view_name": "StyleView",
            "_model_name": "DescriptionStyleModel",
            "description_width": "",
            "_view_module": "@jupyter-widgets/base",
            "_model_module_version": "1.5.0",
            "_view_count": null,
            "_view_module_version": "1.2.0",
            "_model_module": "@jupyter-widgets/controls"
          }
        },
        "aded860c810c45e490559e2df21ea754": {
          "model_module": "@jupyter-widgets/base",
          "model_name": "LayoutModel",
          "state": {
            "_view_name": "LayoutView",
            "grid_template_rows": null,
            "right": null,
            "justify_content": null,
            "_view_module": "@jupyter-widgets/base",
            "overflow": null,
            "_model_module_version": "1.2.0",
            "_view_count": null,
            "flex_flow": null,
            "width": null,
            "min_width": null,
            "border": null,
            "align_items": null,
            "bottom": null,
            "_model_module": "@jupyter-widgets/base",
            "top": null,
            "grid_column": null,
            "overflow_y": null,
            "overflow_x": null,
            "grid_auto_flow": null,
            "grid_area": null,
            "grid_template_columns": null,
            "flex": null,
            "_model_name": "LayoutModel",
            "justify_items": null,
            "grid_row": null,
            "max_height": null,
            "align_content": null,
            "visibility": null,
            "align_self": null,
            "height": null,
            "min_height": null,
            "padding": null,
            "grid_auto_rows": null,
            "grid_gap": null,
            "max_width": null,
            "order": null,
            "_view_module_version": "1.2.0",
            "grid_template_areas": null,
            "object_position": null,
            "object_fit": null,
            "grid_auto_columns": null,
            "margin": null,
            "display": null,
            "left": null
          }
        },
        "55756500db8a4bf18c8ef887b10709fa": {
          "model_module": "@jupyter-widgets/controls",
          "model_name": "HBoxModel",
          "state": {
            "_view_name": "HBoxView",
            "_dom_classes": [],
            "_model_name": "HBoxModel",
            "_view_module": "@jupyter-widgets/controls",
            "_model_module_version": "1.5.0",
            "_view_count": null,
            "_view_module_version": "1.5.0",
            "box_style": "",
            "layout": "IPY_MODEL_7999d2d8dd7a45d7a06489b470ade719",
            "_model_module": "@jupyter-widgets/controls",
            "children": [
              "IPY_MODEL_465c11bb0f21407f99d45eb51555d0e8",
              "IPY_MODEL_3c4bb80d57e04979af58b871c2eaaba5"
            ]
          }
        },
        "7999d2d8dd7a45d7a06489b470ade719": {
          "model_module": "@jupyter-widgets/base",
          "model_name": "LayoutModel",
          "state": {
            "_view_name": "LayoutView",
            "grid_template_rows": null,
            "right": null,
            "justify_content": null,
            "_view_module": "@jupyter-widgets/base",
            "overflow": null,
            "_model_module_version": "1.2.0",
            "_view_count": null,
            "flex_flow": null,
            "width": null,
            "min_width": null,
            "border": null,
            "align_items": null,
            "bottom": null,
            "_model_module": "@jupyter-widgets/base",
            "top": null,
            "grid_column": null,
            "overflow_y": null,
            "overflow_x": null,
            "grid_auto_flow": null,
            "grid_area": null,
            "grid_template_columns": null,
            "flex": null,
            "_model_name": "LayoutModel",
            "justify_items": null,
            "grid_row": null,
            "max_height": null,
            "align_content": null,
            "visibility": null,
            "align_self": null,
            "height": null,
            "min_height": null,
            "padding": null,
            "grid_auto_rows": null,
            "grid_gap": null,
            "max_width": null,
            "order": null,
            "_view_module_version": "1.2.0",
            "grid_template_areas": null,
            "object_position": null,
            "object_fit": null,
            "grid_auto_columns": null,
            "margin": null,
            "display": null,
            "left": null
          }
        },
        "465c11bb0f21407f99d45eb51555d0e8": {
          "model_module": "@jupyter-widgets/controls",
          "model_name": "FloatProgressModel",
          "state": {
            "_view_name": "ProgressView",
            "style": "IPY_MODEL_3ad0c1de6c2d472e94c9901b5a905330",
            "_dom_classes": [],
            "description": "",
            "_model_name": "FloatProgressModel",
            "bar_style": "success",
            "max": 1,
            "_view_module": "@jupyter-widgets/controls",
            "_model_module_version": "1.5.0",
            "value": 1,
            "_view_count": null,
            "_view_module_version": "1.5.0",
            "orientation": "horizontal",
            "min": 0,
            "description_tooltip": null,
            "_model_module": "@jupyter-widgets/controls",
            "layout": "IPY_MODEL_35105b9c9dff4700b54cec68f24dfe04"
          }
        },
        "3c4bb80d57e04979af58b871c2eaaba5": {
          "model_module": "@jupyter-widgets/controls",
          "model_name": "HTMLModel",
          "state": {
            "_view_name": "HTMLView",
            "style": "IPY_MODEL_fc50ccd0e75a4d25866ca7ec53448bfe",
            "_dom_classes": [],
            "description": "",
            "_model_name": "HTMLModel",
            "placeholder": "​",
            "_view_module": "@jupyter-widgets/controls",
            "_model_module_version": "1.5.0",
            "value": " 1654784/? [00:04&lt;00:00, 411084.76it/s]",
            "_view_count": null,
            "_view_module_version": "1.5.0",
            "description_tooltip": null,
            "_model_module": "@jupyter-widgets/controls",
            "layout": "IPY_MODEL_893da608cf36456e8bb55d07bc5c2032"
          }
        },
        "3ad0c1de6c2d472e94c9901b5a905330": {
          "model_module": "@jupyter-widgets/controls",
          "model_name": "ProgressStyleModel",
          "state": {
            "_view_name": "StyleView",
            "_model_name": "ProgressStyleModel",
            "description_width": "initial",
            "_view_module": "@jupyter-widgets/base",
            "_model_module_version": "1.5.0",
            "_view_count": null,
            "_view_module_version": "1.2.0",
            "bar_color": null,
            "_model_module": "@jupyter-widgets/controls"
          }
        },
        "35105b9c9dff4700b54cec68f24dfe04": {
          "model_module": "@jupyter-widgets/base",
          "model_name": "LayoutModel",
          "state": {
            "_view_name": "LayoutView",
            "grid_template_rows": null,
            "right": null,
            "justify_content": null,
            "_view_module": "@jupyter-widgets/base",
            "overflow": null,
            "_model_module_version": "1.2.0",
            "_view_count": null,
            "flex_flow": null,
            "width": null,
            "min_width": null,
            "border": null,
            "align_items": null,
            "bottom": null,
            "_model_module": "@jupyter-widgets/base",
            "top": null,
            "grid_column": null,
            "overflow_y": null,
            "overflow_x": null,
            "grid_auto_flow": null,
            "grid_area": null,
            "grid_template_columns": null,
            "flex": null,
            "_model_name": "LayoutModel",
            "justify_items": null,
            "grid_row": null,
            "max_height": null,
            "align_content": null,
            "visibility": null,
            "align_self": null,
            "height": null,
            "min_height": null,
            "padding": null,
            "grid_auto_rows": null,
            "grid_gap": null,
            "max_width": null,
            "order": null,
            "_view_module_version": "1.2.0",
            "grid_template_areas": null,
            "object_position": null,
            "object_fit": null,
            "grid_auto_columns": null,
            "margin": null,
            "display": null,
            "left": null
          }
        },
        "fc50ccd0e75a4d25866ca7ec53448bfe": {
          "model_module": "@jupyter-widgets/controls",
          "model_name": "DescriptionStyleModel",
          "state": {
            "_view_name": "StyleView",
            "_model_name": "DescriptionStyleModel",
            "description_width": "",
            "_view_module": "@jupyter-widgets/base",
            "_model_module_version": "1.5.0",
            "_view_count": null,
            "_view_module_version": "1.2.0",
            "_model_module": "@jupyter-widgets/controls"
          }
        },
        "893da608cf36456e8bb55d07bc5c2032": {
          "model_module": "@jupyter-widgets/base",
          "model_name": "LayoutModel",
          "state": {
            "_view_name": "LayoutView",
            "grid_template_rows": null,
            "right": null,
            "justify_content": null,
            "_view_module": "@jupyter-widgets/base",
            "overflow": null,
            "_model_module_version": "1.2.0",
            "_view_count": null,
            "flex_flow": null,
            "width": null,
            "min_width": null,
            "border": null,
            "align_items": null,
            "bottom": null,
            "_model_module": "@jupyter-widgets/base",
            "top": null,
            "grid_column": null,
            "overflow_y": null,
            "overflow_x": null,
            "grid_auto_flow": null,
            "grid_area": null,
            "grid_template_columns": null,
            "flex": null,
            "_model_name": "LayoutModel",
            "justify_items": null,
            "grid_row": null,
            "max_height": null,
            "align_content": null,
            "visibility": null,
            "align_self": null,
            "height": null,
            "min_height": null,
            "padding": null,
            "grid_auto_rows": null,
            "grid_gap": null,
            "max_width": null,
            "order": null,
            "_view_module_version": "1.2.0",
            "grid_template_areas": null,
            "object_position": null,
            "object_fit": null,
            "grid_auto_columns": null,
            "margin": null,
            "display": null,
            "left": null
          }
        },
        "0e21c0ded60d43a4ac6fdbd441a08ddd": {
          "model_module": "@jupyter-widgets/controls",
          "model_name": "HBoxModel",
          "state": {
            "_view_name": "HBoxView",
            "_dom_classes": [],
            "_model_name": "HBoxModel",
            "_view_module": "@jupyter-widgets/controls",
            "_model_module_version": "1.5.0",
            "_view_count": null,
            "_view_module_version": "1.5.0",
            "box_style": "",
            "layout": "IPY_MODEL_5ae166427b8a47cdbee86a46fed9b88a",
            "_model_module": "@jupyter-widgets/controls",
            "children": [
              "IPY_MODEL_a5684f72cc4140a59ce9e91ee6d95d4d",
              "IPY_MODEL_7440d9df85f94bc696681c3858efc85a"
            ]
          }
        },
        "5ae166427b8a47cdbee86a46fed9b88a": {
          "model_module": "@jupyter-widgets/base",
          "model_name": "LayoutModel",
          "state": {
            "_view_name": "LayoutView",
            "grid_template_rows": null,
            "right": null,
            "justify_content": null,
            "_view_module": "@jupyter-widgets/base",
            "overflow": null,
            "_model_module_version": "1.2.0",
            "_view_count": null,
            "flex_flow": null,
            "width": null,
            "min_width": null,
            "border": null,
            "align_items": null,
            "bottom": null,
            "_model_module": "@jupyter-widgets/base",
            "top": null,
            "grid_column": null,
            "overflow_y": null,
            "overflow_x": null,
            "grid_auto_flow": null,
            "grid_area": null,
            "grid_template_columns": null,
            "flex": null,
            "_model_name": "LayoutModel",
            "justify_items": null,
            "grid_row": null,
            "max_height": null,
            "align_content": null,
            "visibility": null,
            "align_self": null,
            "height": null,
            "min_height": null,
            "padding": null,
            "grid_auto_rows": null,
            "grid_gap": null,
            "max_width": null,
            "order": null,
            "_view_module_version": "1.2.0",
            "grid_template_areas": null,
            "object_position": null,
            "object_fit": null,
            "grid_auto_columns": null,
            "margin": null,
            "display": null,
            "left": null
          }
        },
        "a5684f72cc4140a59ce9e91ee6d95d4d": {
          "model_module": "@jupyter-widgets/controls",
          "model_name": "FloatProgressModel",
          "state": {
            "_view_name": "ProgressView",
            "style": "IPY_MODEL_0bd96938410d481f91e415c6cf1d647a",
            "_dom_classes": [],
            "description": "",
            "_model_name": "FloatProgressModel",
            "bar_style": "success",
            "max": 1,
            "_view_module": "@jupyter-widgets/controls",
            "_model_module_version": "1.5.0",
            "value": 1,
            "_view_count": null,
            "_view_module_version": "1.5.0",
            "orientation": "horizontal",
            "min": 0,
            "description_tooltip": null,
            "_model_module": "@jupyter-widgets/controls",
            "layout": "IPY_MODEL_72cd724e460c44b6a1890c8063f8c697"
          }
        },
        "7440d9df85f94bc696681c3858efc85a": {
          "model_module": "@jupyter-widgets/controls",
          "model_name": "HTMLModel",
          "state": {
            "_view_name": "HTMLView",
            "style": "IPY_MODEL_388dbe78f63a4aeab99bbf71beccffd2",
            "_dom_classes": [],
            "description": "",
            "_model_name": "HTMLModel",
            "placeholder": "​",
            "_view_module": "@jupyter-widgets/controls",
            "_model_module_version": "1.5.0",
            "value": " 8192/? [00:00&lt;00:00, 12420.87it/s]",
            "_view_count": null,
            "_view_module_version": "1.5.0",
            "description_tooltip": null,
            "_model_module": "@jupyter-widgets/controls",
            "layout": "IPY_MODEL_b8ba0d3a5c9e4d67a79b742d1ab05bce"
          }
        },
        "0bd96938410d481f91e415c6cf1d647a": {
          "model_module": "@jupyter-widgets/controls",
          "model_name": "ProgressStyleModel",
          "state": {
            "_view_name": "StyleView",
            "_model_name": "ProgressStyleModel",
            "description_width": "initial",
            "_view_module": "@jupyter-widgets/base",
            "_model_module_version": "1.5.0",
            "_view_count": null,
            "_view_module_version": "1.2.0",
            "bar_color": null,
            "_model_module": "@jupyter-widgets/controls"
          }
        },
        "72cd724e460c44b6a1890c8063f8c697": {
          "model_module": "@jupyter-widgets/base",
          "model_name": "LayoutModel",
          "state": {
            "_view_name": "LayoutView",
            "grid_template_rows": null,
            "right": null,
            "justify_content": null,
            "_view_module": "@jupyter-widgets/base",
            "overflow": null,
            "_model_module_version": "1.2.0",
            "_view_count": null,
            "flex_flow": null,
            "width": null,
            "min_width": null,
            "border": null,
            "align_items": null,
            "bottom": null,
            "_model_module": "@jupyter-widgets/base",
            "top": null,
            "grid_column": null,
            "overflow_y": null,
            "overflow_x": null,
            "grid_auto_flow": null,
            "grid_area": null,
            "grid_template_columns": null,
            "flex": null,
            "_model_name": "LayoutModel",
            "justify_items": null,
            "grid_row": null,
            "max_height": null,
            "align_content": null,
            "visibility": null,
            "align_self": null,
            "height": null,
            "min_height": null,
            "padding": null,
            "grid_auto_rows": null,
            "grid_gap": null,
            "max_width": null,
            "order": null,
            "_view_module_version": "1.2.0",
            "grid_template_areas": null,
            "object_position": null,
            "object_fit": null,
            "grid_auto_columns": null,
            "margin": null,
            "display": null,
            "left": null
          }
        },
        "388dbe78f63a4aeab99bbf71beccffd2": {
          "model_module": "@jupyter-widgets/controls",
          "model_name": "DescriptionStyleModel",
          "state": {
            "_view_name": "StyleView",
            "_model_name": "DescriptionStyleModel",
            "description_width": "",
            "_view_module": "@jupyter-widgets/base",
            "_model_module_version": "1.5.0",
            "_view_count": null,
            "_view_module_version": "1.2.0",
            "_model_module": "@jupyter-widgets/controls"
          }
        },
        "b8ba0d3a5c9e4d67a79b742d1ab05bce": {
          "model_module": "@jupyter-widgets/base",
          "model_name": "LayoutModel",
          "state": {
            "_view_name": "LayoutView",
            "grid_template_rows": null,
            "right": null,
            "justify_content": null,
            "_view_module": "@jupyter-widgets/base",
            "overflow": null,
            "_model_module_version": "1.2.0",
            "_view_count": null,
            "flex_flow": null,
            "width": null,
            "min_width": null,
            "border": null,
            "align_items": null,
            "bottom": null,
            "_model_module": "@jupyter-widgets/base",
            "top": null,
            "grid_column": null,
            "overflow_y": null,
            "overflow_x": null,
            "grid_auto_flow": null,
            "grid_area": null,
            "grid_template_columns": null,
            "flex": null,
            "_model_name": "LayoutModel",
            "justify_items": null,
            "grid_row": null,
            "max_height": null,
            "align_content": null,
            "visibility": null,
            "align_self": null,
            "height": null,
            "min_height": null,
            "padding": null,
            "grid_auto_rows": null,
            "grid_gap": null,
            "max_width": null,
            "order": null,
            "_view_module_version": "1.2.0",
            "grid_template_areas": null,
            "object_position": null,
            "object_fit": null,
            "grid_auto_columns": null,
            "margin": null,
            "display": null,
            "left": null
          }
        }
      }
    }
  },
  "cells": [
    {
      "cell_type": "markdown",
      "metadata": {
        "id": "view-in-github",
        "colab_type": "text"
      },
      "source": [
        "<a href=\"https://colab.research.google.com/github/EugenHotaj/nn-hallucinations/blob/master/NADE.ipynb\" target=\"_parent\"><img src=\"https://colab.research.google.com/assets/colab-badge.svg\" alt=\"Open In Colab\"/></a>"
      ]
    },
    {
      "cell_type": "code",
      "metadata": {
        "id": "cTESiyxn8VX3",
        "colab_type": "code",
        "outputId": "46f1c2af-e57d-4bb8-992c-d36b84727072",
        "colab": {
          "base_uri": "https://localhost:8080/",
          "height": 136
        }
      },
      "source": [
        "!git clone https://www.github.com/EugenHotaj/nn-hallucinations nn_hallucinations"
      ],
      "execution_count": 1,
      "outputs": [
        {
          "output_type": "stream",
          "text": [
            "Cloning into 'nn_hallucinations'...\n",
            "warning: redirecting to https://github.com/EugenHotaj/nn-hallucinations.git/\n",
            "remote: Enumerating objects: 56, done.\u001b[K\n",
            "remote: Counting objects: 100% (56/56), done.\u001b[K\n",
            "remote: Compressing objects: 100% (48/48), done.\u001b[K\n",
            "remote: Total 56 (delta 26), reused 19 (delta 8), pack-reused 0\u001b[K\n",
            "Unpacking objects: 100% (56/56), done.\n"
          ],
          "name": "stdout"
        }
      ]
    },
    {
      "cell_type": "code",
      "metadata": {
        "id": "r65ruYyo1Hx_",
        "colab_type": "code",
        "colab": {}
      },
      "source": [
        "import matplotlib.pyplot as plt\n",
        "from nn_hallucinations import colab_utils\n",
        "import numpy as np\n",
        "import torch\n",
        "from torch import distributions \n",
        "from torch import nn\n",
        "from torch import optim\n",
        "from torch.nn import functional as F\n",
        "from torch.utils import data\n",
        "import torchvision\n",
        "from torchvision import transforms\n",
        "from torchvision import datasets"
      ],
      "execution_count": 0,
      "outputs": []
    },
    {
      "cell_type": "code",
      "metadata": {
        "id": "begUtRNreGO6",
        "colab_type": "code",
        "colab": {}
      },
      "source": [
        "def flatten(x):\n",
        "  return x.view(-1)\n",
        "  \n",
        "\n",
        "def binarize(x):\n",
        "  # TODO(eugenhotaj): Since binarize is called once per epoch, examples will\n",
        "  # be sampled slightly different each epoch.\n",
        "  return distributions.Bernoulli(probs=x).sample()"
      ],
      "execution_count": 0,
      "outputs": []
    },
    {
      "cell_type": "code",
      "metadata": {
        "id": "aVZCCtQT8Men",
        "colab_type": "code",
        "outputId": "1ca131b9-7604-4ea1-ebb7-56d4a48e3767",
        "colab": {
          "base_uri": "https://localhost:8080/",
          "height": 403,
          "referenced_widgets": [
            "723f5a62c8e0409ea0d0745bba16e40d",
            "681d1ee0c3b4426dabf8a6cb14fbd945",
            "1453a18d65d94fb3a886e8803a56c158",
            "40c10b315a744c84bf4770d2ff093222",
            "226c15228982433b8a6d72822d2845d2",
            "d21bed04717f400096b34b16011d9c90",
            "c506bffbe97f48cbaef69ce4840b5fee",
            "0df2395de734473f9e7906273bc0ceed",
            "199dffe1c3e049ae837d0fdede1a80b4",
            "7763ae5724404c7d833866e3188aaa47",
            "33b2d405dbe242d5bee47ee2746abc46",
            "6d14ec0b695040adbdbe3b225b11526f",
            "12fb47ec59134999a1a00961c76db223",
            "f818890b0a664c66afabc235661eaaed",
            "b21560baa2a1411a8e2b25cc08f6ee3d",
            "aded860c810c45e490559e2df21ea754",
            "55756500db8a4bf18c8ef887b10709fa",
            "7999d2d8dd7a45d7a06489b470ade719",
            "465c11bb0f21407f99d45eb51555d0e8",
            "3c4bb80d57e04979af58b871c2eaaba5",
            "3ad0c1de6c2d472e94c9901b5a905330",
            "35105b9c9dff4700b54cec68f24dfe04",
            "fc50ccd0e75a4d25866ca7ec53448bfe",
            "893da608cf36456e8bb55d07bc5c2032",
            "0e21c0ded60d43a4ac6fdbd441a08ddd",
            "5ae166427b8a47cdbee86a46fed9b88a",
            "a5684f72cc4140a59ce9e91ee6d95d4d",
            "7440d9df85f94bc696681c3858efc85a",
            "0bd96938410d481f91e415c6cf1d647a",
            "72cd724e460c44b6a1890c8063f8c697",
            "388dbe78f63a4aeab99bbf71beccffd2",
            "b8ba0d3a5c9e4d67a79b742d1ab05bce"
          ]
        }
      },
      "source": [
        "BATCH_SIZE = 512\n",
        "TRANSFORM = transforms.Compose([\n",
        "    transforms.ToTensor(),\n",
        "    flatten,\n",
        "    binarize])\n",
        "\n",
        "train_loader = data.DataLoader(\n",
        "    datasets.MNIST('../data', train=True, download=True, transform=TRANSFORM),\n",
        "    batch_size=BATCH_SIZE, \n",
        "    shuffle=True)\n",
        "test_loader = data.DataLoader(\n",
        "    datasets.MNIST('../data', train=False, download=True,transform=TRANSFORM),\n",
        "    batch_size=BATCH_SIZE*2)"
      ],
      "execution_count": 4,
      "outputs": [
        {
          "output_type": "stream",
          "text": [
            "Downloading http://yann.lecun.com/exdb/mnist/train-images-idx3-ubyte.gz to ../data/MNIST/raw/train-images-idx3-ubyte.gz\n"
          ],
          "name": "stdout"
        },
        {
          "output_type": "display_data",
          "data": {
            "application/vnd.jupyter.widget-view+json": {
              "model_id": "723f5a62c8e0409ea0d0745bba16e40d",
              "version_minor": 0,
              "version_major": 2
            },
            "text/plain": [
              "HBox(children=(FloatProgress(value=1.0, bar_style='info', max=1.0), HTML(value='')))"
            ]
          },
          "metadata": {
            "tags": []
          }
        },
        {
          "output_type": "stream",
          "text": [
            "Extracting ../data/MNIST/raw/train-images-idx3-ubyte.gz to ../data/MNIST/raw\n",
            "Downloading http://yann.lecun.com/exdb/mnist/train-labels-idx1-ubyte.gz to ../data/MNIST/raw/train-labels-idx1-ubyte.gz\n"
          ],
          "name": "stdout"
        },
        {
          "output_type": "display_data",
          "data": {
            "application/vnd.jupyter.widget-view+json": {
              "model_id": "199dffe1c3e049ae837d0fdede1a80b4",
              "version_minor": 0,
              "version_major": 2
            },
            "text/plain": [
              "HBox(children=(FloatProgress(value=1.0, bar_style='info', max=1.0), HTML(value='')))"
            ]
          },
          "metadata": {
            "tags": []
          }
        },
        {
          "output_type": "stream",
          "text": [
            "Extracting ../data/MNIST/raw/train-labels-idx1-ubyte.gz to ../data/MNIST/raw\n",
            "Downloading http://yann.lecun.com/exdb/mnist/t10k-images-idx3-ubyte.gz to ../data/MNIST/raw/t10k-images-idx3-ubyte.gz\n"
          ],
          "name": "stdout"
        },
        {
          "output_type": "display_data",
          "data": {
            "application/vnd.jupyter.widget-view+json": {
              "model_id": "55756500db8a4bf18c8ef887b10709fa",
              "version_minor": 0,
              "version_major": 2
            },
            "text/plain": [
              "HBox(children=(FloatProgress(value=1.0, bar_style='info', max=1.0), HTML(value='')))"
            ]
          },
          "metadata": {
            "tags": []
          }
        },
        {
          "output_type": "stream",
          "text": [
            "Extracting ../data/MNIST/raw/t10k-images-idx3-ubyte.gz to ../data/MNIST/raw\n",
            "Downloading http://yann.lecun.com/exdb/mnist/t10k-labels-idx1-ubyte.gz to ../data/MNIST/raw/t10k-labels-idx1-ubyte.gz\n"
          ],
          "name": "stdout"
        },
        {
          "output_type": "display_data",
          "data": {
            "application/vnd.jupyter.widget-view+json": {
              "model_id": "0e21c0ded60d43a4ac6fdbd441a08ddd",
              "version_minor": 0,
              "version_major": 2
            },
            "text/plain": [
              "HBox(children=(FloatProgress(value=1.0, bar_style='info', max=1.0), HTML(value='')))"
            ]
          },
          "metadata": {
            "tags": []
          }
        },
        {
          "output_type": "stream",
          "text": [
            "Extracting ../data/MNIST/raw/t10k-labels-idx1-ubyte.gz to ../data/MNIST/raw\n",
            "Processing...\n",
            "Done!\n",
            "\n",
            "\n",
            "\n"
          ],
          "name": "stdout"
        },
        {
          "output_type": "stream",
          "text": [
            "/pytorch/torch/csrc/utils/tensor_numpy.cpp:141: UserWarning: The given NumPy array is not writeable, and PyTorch does not support non-writeable tensors. This means you can write to the underlying (supposedly non-writeable) NumPy array using the tensor. You may want to copy the array to protect its data or make it writeable before converting it to a tensor. This type of warning will be suppressed for the rest of this program.\n"
          ],
          "name": "stderr"
        }
      ]
    },
    {
      "cell_type": "code",
      "metadata": {
        "id": "jOMNxV5i-KsN",
        "colab_type": "code",
        "colab": {}
      },
      "source": [
        "class NADE(nn.Module):\n",
        "  \"\"\"Implementation of the Neural Autoregressive Distribution Estimator (NADE).\n",
        "\n",
        "  NADE can be viewed as a one hidden layer autoencoder trained with a \"language\n",
        "  model criterion\", i.e. trained to approximate p(x_i | x_{j<i}). The \n",
        "  connectivity pattern of NADE is specialized to enable this training criterion.\n",
        "  \n",
        "  For full details, see the paper by Larochelle & Murray (2011).\n",
        "  \"\"\"\n",
        "\n",
        "  def __init__(self, input_dim, hidden_dim):\n",
        "    \"\"\"Initializes a new NADE instance.\n",
        "    \n",
        "    Args:\n",
        "      input_dim: The dimension of the input.\n",
        "      hidden_dim: The dimmension of the hidden layer. NADE only supports one\n",
        "        hidden layer.\n",
        "    \"\"\"\n",
        "    super().__init__()\n",
        "    self._input_dim = input_dim\n",
        "    self._hidden_dim = hidden_dim\n",
        "    self.params = nn.ParameterDict({\n",
        "      'in_W': nn.Parameter(torch.zeros(self._hidden_dim, self._input_dim)),\n",
        "      'in_b': nn.Parameter(torch.zeros(self._hidden_dim,)),\n",
        "      'h_W': nn.Parameter(torch.zeros(self._input_dim, self._hidden_dim)),\n",
        "      'h_b': nn.Parameter(torch.zeros(self._input_dim,)),\n",
        "    })\n",
        "    nn.init.kaiming_normal_(self.params['in_W'])\n",
        "    nn.init.kaiming_normal_(self.params['h_W'])\n",
        "\n",
        "  def _forward(self, x):\n",
        "    \"\"\"Computes a forward pass and samples a new output.\n",
        "    \n",
        "    Returns:\n",
        "      (p_hat, x_hat) where p_hat is the probability distribution over dimensions\n",
        "      and x_hat *might* be sampled from p_hat. See the 'sample' method for\n",
        "      specifics of sampling.\n",
        "    \"\"\"\n",
        "    in_W, in_b = self.params['in_W'], self.params['in_b']\n",
        "    h_W, h_b = self.params['h_W'], self.params['h_b']\n",
        "    batch_size = 1 if x is None else x.shape[0] \n",
        "\n",
        "    p_hat = []\n",
        "    x_hat = []\n",
        "    # Only the bias is used to compute the first hidden unit so we must \n",
        "    # replicate it to account for the batch size.\n",
        "    a = in_b.expand(batch_size, -1)\n",
        "    for i in range(self._input_dim):\n",
        "      h = torch.relu(a)\n",
        "      p_i = torch.sigmoid(h_b[i:i+1] + h @ h_W[i:i+1, :].t())\n",
        "      p_hat.append(p_i)\n",
        "\n",
        "      # Sample 'x' at dimension 'i' if it is not given.\n",
        "      x_i = x[:, i:i+1]\n",
        "      x_i = torch.where(x_i < 0, \n",
        "                        distributions.Bernoulli(probs=p_i).sample(),\n",
        "                        x_i)\n",
        "      x_hat.append(x_i)\n",
        "\n",
        "      # We do not need to add in_b[i:i+1] when computing the other hidden units\n",
        "      # since it was already added when computing the first hidden unit. \n",
        "      a = a + x_i @ in_W[:, i:i+1].t()\n",
        "    return torch.cat(p_hat, dim=1), torch.cat(x_hat, dim=1) if x_hat else []\n",
        "\n",
        "  def forward(self, x):\n",
        "    \"\"\"Computes a forward pass.\"\"\"\n",
        "    return self._forward(x)[0]\n",
        "\n",
        "  def sample(self, conditioned_on=None):\n",
        "    \"\"\"Samples a new image.\n",
        "    \n",
        "    Args:\n",
        "      conditioned_on: An (optional) image to condition samples on. Only \n",
        "        dimensions with values < 0 will be sampled. For example, if \n",
        "        conditioned_on[i] = -1, then output[i] will be sampled conditioned on\n",
        "        dimensions j < i. If 'None', an unconditional sample will be generated.\n",
        "    \"\"\"\n",
        "    if conditioned_on is None:\n",
        "      device = next(self.parameters()).device\n",
        "      conditioned_on = (torch.ones((1, self._input_dim)) * -1).to(device)\n",
        "    return self._forward(conditioned_on)[1]"
      ],
      "execution_count": 0,
      "outputs": []
    },
    {
      "cell_type": "code",
      "metadata": {
        "id": "30XxyP2H9Kwr",
        "colab_type": "code",
        "colab": {
          "base_uri": "https://localhost:8080/",
          "height": 34
        },
        "outputId": "42bd3922-46d2-4f71-eb18-dc0e10c33518"
      },
      "source": [
        "model = NADE(INPUT_SIZE, HIDDEN_SIZE).to(colab_utils.get_device())\n",
        "model.load_state_dict(STATE_DICT)"
      ],
      "execution_count": 83,
      "outputs": [
        {
          "output_type": "execute_result",
          "data": {
            "text/plain": [
              "<All keys matched successfully>"
            ]
          },
          "metadata": {
            "tags": []
          },
          "execution_count": 83
        }
      ]
    },
    {
      "cell_type": "code",
      "metadata": {
        "id": "zNKgweVxXZnR",
        "colab_type": "code",
        "colab": {}
      },
      "source": [
        "def train(model, \n",
        "          optimizer, \n",
        "          loss_fn, \n",
        "          train_loader, \n",
        "          eval_loader,\n",
        "          n_epochs,\n",
        "          device=torch.device('cpu')):\n",
        "  model = model.to(device)\n",
        "\n",
        "  train_losses = []\n",
        "  eval_losses = []\n",
        "  for epoch in range(n_epochs):\n",
        "    model.train()\n",
        "\n",
        "    train_loss = 0.\n",
        "    n_examples = 0\n",
        "    for x, _ in train_loader:\n",
        "      x = x.to(device)\n",
        "      n_examples += x.shape[0]\n",
        "      \n",
        "      optimizer.zero_grad()\n",
        "      x_hat = model(x)\n",
        "      loss = loss_fn(x_hat, x)\n",
        "      loss.backward()\n",
        "      optimizer.step()\n",
        "      train_loss += loss.item() * x.shape[0]\n",
        "    train_loss = train_loss / n_examples\n",
        "    eval_loss = eval(model, optimizer, loss_fn, eval_loader, device)\n",
        "    print(f'[{epoch + 1}] train_loss={train_loss} eval_loss={eval_loss}')\n",
        "    train_losses.append(train_loss)\n",
        "    eval_losses.append(eval_loss)\n",
        "\n",
        "  return train_losses, eval_losses \n",
        "\n",
        "def eval(model, optimizer, loss_fn, eval_loader, device=torch.device('cpu')):\n",
        "  model = model.to(device)\n",
        "  model.eval()\n",
        "\n",
        "  eval_loss = 0.\n",
        "  n_examples = 0\n",
        "  with torch.no_grad():\n",
        "    for x, _ in eval_loader:\n",
        "      x = x.to(device)\n",
        "      n_examples += x.shape[0]\n",
        "\n",
        "      x_hat = model(x)\n",
        "      loss = loss_fn(x_hat, x)\n",
        "      eval_loss += loss.item() * x.shape[0]\n",
        "  return eval_loss / n_examples "
      ],
      "execution_count": 0,
      "outputs": []
    },
    {
      "cell_type": "code",
      "metadata": {
        "id": "umq315H3vvs6",
        "colab_type": "code",
        "outputId": "8ce635e8-3415-4720-f7b4-54651af8e98c",
        "colab": {
          "base_uri": "https://localhost:8080/",
          "height": 867
        }
      },
      "source": [
        "INPUT_SIZE = 784\n",
        "HIDDEN_SIZE = 500\n",
        "N_EPOCHS = 50\n",
        "\n",
        "model = NADE(INPUT_SIZE, HIDDEN_SIZE).to(colab_utils.get_device())\n",
        "optimizer = optim.Adam(model.parameters())\n",
        "bce_loss_fn = nn.BCELoss(reduction='none')\n",
        "loss_fn = lambda y_hat, y: bce_loss_fn(y_hat, y).sum(dim=1).mean()\n",
        "\n",
        "train_losses, eval_losses = train(model, \n",
        "                                  optimizer, \n",
        "                                  loss_fn, \n",
        "                                  train_loader, \n",
        "                                  test_loader, \n",
        "                                  N_EPOCHS, \n",
        "                                  colab_utils.get_device())"
      ],
      "execution_count": 24,
      "outputs": [
        {
          "output_type": "stream",
          "text": [
            "[1] train_loss=213.58125911458333 eval_loss=122.76888951416015\n",
            "[2] train_loss=112.73873965250651 eval_loss=104.64058521728515\n",
            "[3] train_loss=102.36929204508463 eval_loss=98.99817159423829\n",
            "[4] train_loss=98.37505247802734 eval_loss=96.19501003417969\n",
            "[5] train_loss=96.3025901204427 eval_loss=94.75684342041015\n",
            "[6] train_loss=94.83260882161458 eval_loss=93.52080401611327\n",
            "[7] train_loss=93.79723575032553 eval_loss=92.62771480712891\n",
            "[8] train_loss=92.93429248860677 eval_loss=91.88377181396484\n",
            "[9] train_loss=92.26071557617188 eval_loss=91.37259896240235\n",
            "[10] train_loss=91.62188515625 eval_loss=90.85173999023438\n",
            "[11] train_loss=91.14195017903646 eval_loss=90.39020461425781\n",
            "[12] train_loss=90.68283444417318 eval_loss=90.17718834228516\n",
            "[13] train_loss=90.32142562255859 eval_loss=89.72871616210938\n",
            "[14] train_loss=89.98472598063151 eval_loss=89.45201062011719\n",
            "[15] train_loss=89.64219123535156 eval_loss=89.18606024169922\n",
            "[16] train_loss=89.33863102620442 eval_loss=88.90312200927734\n",
            "[17] train_loss=89.12352150472005 eval_loss=88.73567619628906\n",
            "[18] train_loss=88.83440472005208 eval_loss=88.5088511352539\n",
            "[19] train_loss=88.5979928873698 eval_loss=88.27646223144531\n",
            "[20] train_loss=88.36348688151041 eval_loss=88.07874366455079\n",
            "[21] train_loss=88.18686420084636 eval_loss=88.07497670898438\n",
            "[22] train_loss=87.97373494873047 eval_loss=87.82324459228515\n",
            "[23] train_loss=87.86856917724609 eval_loss=87.6021394165039\n",
            "[24] train_loss=87.68301248372396 eval_loss=87.59730046386719\n",
            "[25] train_loss=87.49917462972005 eval_loss=87.37830992431641\n",
            "[26] train_loss=87.39500071614583 eval_loss=87.221959765625\n",
            "[27] train_loss=87.22340478515625 eval_loss=87.08833940429687\n",
            "[28] train_loss=87.1319331258138 eval_loss=87.01012124023437\n",
            "[29] train_loss=86.9912923014323 eval_loss=86.81609602050781\n",
            "[30] train_loss=86.87178297526042 eval_loss=86.83907963867188\n",
            "[31] train_loss=86.7804285522461 eval_loss=86.867330078125\n",
            "[32] train_loss=86.68419114990235 eval_loss=86.693166015625\n",
            "[33] train_loss=86.56651070149739 eval_loss=86.61339134521485\n",
            "[34] train_loss=86.51047651774088 eval_loss=86.58490770263671\n",
            "[35] train_loss=86.4265721435547 eval_loss=86.48826541748046\n",
            "[36] train_loss=86.30953775227864 eval_loss=86.44306495361329\n",
            "[37] train_loss=86.22845810546875 eval_loss=86.2837109008789\n",
            "[38] train_loss=86.1841431640625 eval_loss=86.10563955078125\n",
            "[39] train_loss=86.05708477376302 eval_loss=86.22739539794922\n",
            "[40] train_loss=85.9509775797526 eval_loss=86.15276298828125\n",
            "[41] train_loss=85.92542862955729 eval_loss=86.16069702148438\n",
            "[42] train_loss=85.87105647786458 eval_loss=86.01041940917969\n",
            "[43] train_loss=85.85212951253256 eval_loss=85.99817181396485\n",
            "[44] train_loss=85.75410065104167 eval_loss=85.99332506103515\n",
            "[45] train_loss=85.70779194335938 eval_loss=85.74437856445313\n",
            "[46] train_loss=85.6220363647461 eval_loss=85.70301927490235\n",
            "[47] train_loss=85.54725553385417 eval_loss=85.86251779785157\n",
            "[48] train_loss=85.4742645711263 eval_loss=85.78315541992187\n",
            "[49] train_loss=85.49520387369792 eval_loss=85.66129887695313\n",
            "[50] train_loss=85.37670368652344 eval_loss=85.75932185058593\n"
          ],
          "name": "stdout"
        }
      ]
    },
    {
      "cell_type": "code",
      "metadata": {
        "id": "dKLxqIdv2E3Y",
        "colab_type": "code",
        "outputId": "987a758f-c249-4853-9f42-10dc19c64d2d",
        "colab": {
          "base_uri": "https://localhost:8080/",
          "height": 497
        }
      },
      "source": [
        "epochs = len(train_losses)\n",
        "plt.figure(figsize=(8, 8))\n",
        "plt.plot(range(epochs), train_losses)\n",
        "plt.plot(range(epochs), eval_losses)\n",
        "plt.legend(['train', 'test'])\n",
        "plt.xlabel('epoch')\n",
        "plt.ylabel('loss')\n",
        "plt.show()"
      ],
      "execution_count": 26,
      "outputs": [
        {
          "output_type": "display_data",
          "data": {
            "image/png": "[encoded data removed]",
            "text/plain": [
              "<Figure size 576x576 with 1 Axes>"
            ]
          },
          "metadata": {
            "tags": [],
            "needs_background": "light"
          }
        }
      ]
    },
    {
      "cell_type": "code",
      "metadata": {
        "id": "hp5drHYdJhGe",
        "colab_type": "code",
        "colab": {}
      },
      "source": [
        "def show_random(model, dataset):\n",
        "  idx = np.random.choice(len(dataset))\n",
        "  img = dataset[idx][0].reshape(1, -1).to(colab_utils.get_device())\n",
        "  img_hat = model(img)\n",
        "  colab_utils.imshow(img.reshape(28, 28))\n",
        "  colab_utils.imshow(img_hat.reshape(28, 28))"
      ],
      "execution_count": 0,
      "outputs": []
    },
    {
      "cell_type": "code",
      "metadata": {
        "id": "Pg96rjPqLK8n",
        "colab_type": "code",
        "outputId": "58201be2-0a06-407b-cff3-c332ade641bb",
        "colab": {
          "base_uri": "https://localhost:8080/",
          "height": 479
        }
      },
      "source": [
        "show_random(model, test_loader.dataset)"
      ],
      "execution_count": 59,
      "outputs": [
        {
          "output_type": "display_data",
          "data": {
            "image/png": "[encoded data removed]",
            "text/plain": [
              "<Figure size 432x288 with 1 Axes>"
            ]
          },
          "metadata": {
            "tags": [],
            "needs_background": "light"
          }
        },
        {
          "output_type": "display_data",
          "data": {
            "image/png": "[encoded data removed]",
            "text/plain": [
              "<Figure size 432x288 with 1 Axes>"
            ]
          },
          "metadata": {
            "tags": [],
            "needs_background": "light"
          }
        }
      ]
    },
    {
      "cell_type": "code",
      "metadata": {
        "id": "wz-HkuMg9V8S",
        "colab_type": "code",
        "colab": {
          "base_uri": "https://localhost:8080/",
          "height": 248
        },
        "outputId": "13c15319-b8eb-46e3-bc33-8895ace7dbc0"
      },
      "source": [
        "colab_utils.imshow(model.sample().reshape(28, 28))"
      ],
      "execution_count": 88,
      "outputs": [
        {
          "output_type": "display_data",
          "data": {
            "image/png": "[encoded data removed]",
            "text/plain": [
              "<Figure size 432x288 with 1 Axes>"
            ]
          },
          "metadata": {
            "tags": [],
            "needs_background": "light"
          }
        }
      ]
    },
    {
      "cell_type": "code",
      "metadata": {
        "id": "yG6o5ySz7RRm",
        "colab_type": "code",
        "colab": {}
      },
      "source": [
        "def conditional_sample_random(model, dataset):\n",
        "  idx = np.random.choice(len(dataset))\n",
        "  img = dataset[idx][0].reshape(1, -1).to(colab_utils.get_device())\n",
        "  img[0, 300:600] = -1\n",
        "  colab_utils.imshow(img.reshape(28, 28))\n",
        "  plt.show()\n",
        "  print(\"Conditional Samples:\")\n",
        "  for i in range(5):\n",
        "    img_hat = model.sample(img)\n",
        "    colab_utils.imshow(img_hat.reshape(28, 28))"
      ],
      "execution_count": 0,
      "outputs": []
    },
    {
      "cell_type": "code",
      "metadata": {
        "id": "YFJbwIf2_4Ji",
        "colab_type": "code",
        "colab": {
          "base_uri": "https://localhost:8080/",
          "height": 1000
        },
        "outputId": "4d798674-b728-4df9-bff2-c848f30ed759"
      },
      "source": [
        "conditional_sample_random(model, test_loader.dataset)"
      ],
      "execution_count": 109,
      "outputs": [
        {
          "output_type": "display_data",
          "data": {
            "image/png": "[encoded data removed]",
            "text/plain": [
              "<Figure size 432x288 with 1 Axes>"
            ]
          },
          "metadata": {
            "tags": [],
            "needs_background": "light"
          }
        },
        {
          "output_type": "stream",
          "text": [
            "Conditional Samples:\n"
          ],
          "name": "stdout"
        },
        {
          "output_type": "display_data",
          "data": {
            "image/png": "[encoded data removed]",
            "text/plain": [
              "<Figure size 432x288 with 1 Axes>"
            ]
          },
          "metadata": {
            "tags": [],
            "needs_background": "light"
          }
        },
        {
          "output_type": "display_data",
          "data": {
            "image/png": "[encoded data removed]",
            "text/plain": [
              "<Figure size 432x288 with 1 Axes>"
            ]
          },
          "metadata": {
            "tags": [],
            "needs_background": "light"
          }
        },
        {
          "output_type": "display_data",
          "data": {
            "image/png": "[encoded data removed]",
            "text/plain": [
              "<Figure size 432x288 with 1 Axes>"
            ]
          },
          "metadata": {
            "tags": [],
            "needs_background": "light"
          }
        },
        {
          "output_type": "display_data",
          "data": {
            "image/png": "[encoded data removed]",
            "text/plain": [
              "<Figure size 432x288 with 1 Axes>"
            ]
          },
          "metadata": {
            "tags": [],
            "needs_background": "light"
          }
        },
        {
          "output_type": "display_data",
          "data": {
            "image/png": "[encoded data removed]",
            "text/plain": [
              "<Figure size 432x288 with 1 Axes>"
            ]
          },
          "metadata": {
            "tags": [],
            "needs_background": "light"
          }
        }
      ]
    }
  ]
}